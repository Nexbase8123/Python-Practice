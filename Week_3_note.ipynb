{
  "nbformat": 4,
  "nbformat_minor": 0,
  "metadata": {
    "colab": {
      "provenance": [],
      "authorship_tag": "ABX9TyMjd7il8ODSHuSFlR+wTGUC",
      "include_colab_link": true
    },
    "kernelspec": {
      "name": "python3",
      "display_name": "Python 3"
    },
    "language_info": {
      "name": "python"
    }
  },
  "cells": [
    {
      "cell_type": "markdown",
      "metadata": {
        "id": "view-in-github",
        "colab_type": "text"
      },
      "source": [
        "<a href=\"https://colab.research.google.com/github/Nexbase8123/Python-Practice/blob/main/Week_3_note.ipynb\" target=\"_parent\"><img src=\"https://colab.research.google.com/assets/colab-badge.svg\" alt=\"Open In Colab\"/></a>"
      ]
    },
    {
      "cell_type": "code",
      "execution_count": null,
      "metadata": {
        "id": "3tlPUk1yoG6m"
      },
      "outputs": [],
      "source": []
    },
    {
      "cell_type": "markdown",
      "metadata": {
        "id": "5WiJTxMIUg_K"
      },
      "source": []
    },
    {
      "cell_type": "markdown",
      "metadata": {
        "id": "5jynUgo9kXg6"
      },
      "source": [
        "### Week3_class1"
      ]
    },
    {
      "cell_type": "code",
      "execution_count": null,
      "metadata": {
        "colab": {
          "base_uri": "https://localhost:8080/",
          "height": 53
        },
        "id": "IGqXRBd8_L1s",
        "outputId": "c3bbc5dc-b152-44eb-ec41-6e03c428bfab"
      },
      "outputs": [
        {
          "output_type": "execute_result",
          "data": {
            "text/plain": [
              "'In Python, a set is an unordered collection of unique elements.You can create a set by enclosing comma-separated elements within curly braces {} or by using the set() constructor. They are mutable but each element is unique, hence it contains no duplicates.'"
            ],
            "application/vnd.google.colaboratory.intrinsic+json": {
              "type": "string"
            }
          },
          "metadata": {},
          "execution_count": 242
        }
      ],
      "source": [
        "#...............Sets and how to manipulate sets.........................#\n",
        "'''In Python, a set is an unordered collection of unique elements.You can create a set by enclosing comma-separated elements within curly braces {} or by using the set() constructor. They are mutable but each element is unique, hence it contains no duplicates.'''"
      ]
    },
    {
      "cell_type": "code",
      "execution_count": null,
      "metadata": {
        "colab": {
          "base_uri": "https://localhost:8080/"
        },
        "id": "mOi042Et_aFw",
        "outputId": "b9fe3503-40c3-4a46-ced6-4a3aa9587837"
      },
      "outputs": [
        {
          "output_type": "stream",
          "name": "stdout",
          "text": [
            "{1, 2, 3, 4, 5}\n"
          ]
        }
      ],
      "source": [
        "# lets create a set\n",
        "my_set = {1,2,3,4,5}\n",
        "print(my_set)"
      ]
    },
    {
      "cell_type": "code",
      "execution_count": null,
      "metadata": {
        "colab": {
          "base_uri": "https://localhost:8080/"
        },
        "id": "0WRfLcsNcKEU",
        "outputId": "3823e394-3a20-4d71-bf82-22077df68bef"
      },
      "outputs": [
        {
          "output_type": "execute_result",
          "data": {
            "text/plain": [
              "set"
            ]
          },
          "metadata": {},
          "execution_count": 244
        }
      ],
      "source": [
        "# lets check the type\n",
        "type(my_set)"
      ]
    },
    {
      "cell_type": "code",
      "execution_count": null,
      "metadata": {
        "colab": {
          "base_uri": "https://localhost:8080/"
        },
        "id": "fEPlJb0UcP0Y",
        "outputId": "83909668-83ae-4a11-f25f-57b190ebd255"
      },
      "outputs": [
        {
          "output_type": "stream",
          "name": "stdout",
          "text": [
            "1\n",
            "2\n",
            "3\n",
            "4\n",
            "5\n"
          ]
        }
      ],
      "source": [
        "# lets iterate through the set\n",
        "for item in my_set:\n",
        "  print(item)"
      ]
    },
    {
      "cell_type": "code",
      "execution_count": null,
      "metadata": {
        "id": "zqgr6x1_caJn"
      },
      "outputs": [],
      "source": [
        "# lets add an element to our set...Hint: Using the add()function\n",
        "my_set.add(6)"
      ]
    },
    {
      "cell_type": "code",
      "execution_count": null,
      "metadata": {
        "id": "8QEYYTM7ctjQ"
      },
      "outputs": [],
      "source": [
        "# lets remove the first element, which is 1\n",
        "my_set.remove(1) # disadevange of using .remove() function, if its not in the set, it will throw error message\n"
      ]
    },
    {
      "cell_type": "code",
      "execution_count": null,
      "metadata": {
        "colab": {
          "base_uri": "https://localhost:8080/"
        },
        "id": "2Ou9tczUc67K",
        "outputId": "143f404b-f5d2-47fe-f758-44e3eaa66a07"
      },
      "outputs": [
        {
          "output_type": "stream",
          "name": "stdout",
          "text": [
            "{3, 4, 5, 6}\n"
          ]
        }
      ],
      "source": [
        "# We can better use .discard() to remove elements\n",
        "my_set.discard(2)\n",
        "print(my_set)"
      ]
    },
    {
      "cell_type": "code",
      "execution_count": null,
      "metadata": {
        "colab": {
          "base_uri": "https://localhost:8080/"
        },
        "id": "ufL6s8HHd2a7",
        "outputId": "08585df3-be85-42b5-fab1-0fd95bd567ba"
      },
      "outputs": [
        {
          "output_type": "stream",
          "name": "stdout",
          "text": [
            "{1, 2, 3, 4, 5, 6, 7, 8}\n"
          ]
        }
      ],
      "source": [
        "# lets combine two sets. Hint: use a union() function\n",
        "set1 = {1,2,3,4,5}\n",
        "set2 = {4,5,6,7,8}\n",
        "combined_set = set1.union(set2)\n",
        "print(combined_set)"
      ]
    },
    {
      "cell_type": "code",
      "execution_count": null,
      "metadata": {
        "colab": {
          "base_uri": "https://localhost:8080/"
        },
        "id": "W3cclat6eGZa",
        "outputId": "0d67ff2f-f0d9-42bd-bed1-81a4e6f6db77"
      },
      "outputs": [
        {
          "output_type": "stream",
          "name": "stdout",
          "text": [
            "{4, 5}\n"
          ]
        }
      ],
      "source": [
        "# lets chech the elements that are the same in two sets or unique to the two sets. Hint: use .intersection()\n",
        "set1 = {1,2,3,4,5}\n",
        "set2 = {4,5,6,7,8}\n",
        "intersection_set = set1.intersection(set2)\n",
        "print(intersection_set)"
      ]
    },
    {
      "cell_type": "markdown",
      "metadata": {
        "id": "E_l5COONeqBg"
      },
      "source": [
        "Assignment:\n",
        "1. Do a study on set data structure, find out about a. difference, b.issubset, c.issuperset."
      ]
    },
    {
      "cell_type": "markdown",
      "metadata": {
        "id": "Cmiu4-1oF1e2"
      },
      "source": [
        "**Mini Project:**\n",
        "1. Create an email splitter.\n",
        "* Create a script that will take your email address as an input. Then use the dot split() method to split the email into username and domain name.\n",
        "\n",
        "2. Create an ID or MatricNo splitter.\n",
        "* Create a script that will take in your FellowID as an input. Then use the dot split() method to split your fellowID into 3 (fellow, year and ID)\n",
        "\n",
        "3. Create a character, word and sentence counter.\n",
        "* Create a script that will take in a word or sentence. Then use the dot split(), dot count() and dot len() methods to build your logic.\n"
      ]
    },
    {
      "cell_type": "markdown",
      "metadata": {
        "id": "YvjsUa02QjL1"
      },
      "source": [
        "[link to attendance](https://forms.gle/5biBEB3z1yKE6TmCA)"
      ]
    },
    {
      "cell_type": "code",
      "execution_count": null,
      "metadata": {
        "id": "dO6ewL0EUxdI"
      },
      "outputs": [],
      "source": []
    },
    {
      "cell_type": "markdown",
      "metadata": {
        "id": "65qZWTOxlS24"
      },
      "source": [
        "### Control Statement"
      ]
    },
    {
      "cell_type": "markdown",
      "metadata": {
        "id": "LCPfEabZ_Rfd"
      },
      "source": [
        "Control statements are like the instructions that tell your program what to do next based on different situations. They are also used to alter the flow of a program based on certain conditions. The most common control statement is the if statement, which helps us make decisions in our code.\n",
        "\n",
        "We have different type of control statements;\n",
        "####  Conditional Statements\n",
        "- `if` statement\n",
        "\n",
        "- `if-else` statement\n",
        "\n",
        "- `if-elif-else` statement\n",
        "\n",
        "####  Looping Statements\n",
        "\n",
        "- `for` loop\n",
        "\n",
        "- `while` loop\n",
        "\n",
        "####  Control Flow Alteration Statements\n",
        "\n",
        "- `break` statement\n",
        "\n",
        "- `continue` statement\n",
        "\n",
        "- `pass` statement"
      ]
    },
    {
      "cell_type": "markdown",
      "metadata": {
        "id": "eF0X0j0C_XRb"
      },
      "source": [
        "#### Conditional Statement"
      ]
    },
    {
      "cell_type": "code",
      "execution_count": null,
      "metadata": {
        "colab": {
          "base_uri": "https://localhost:8080/",
          "height": 383
        },
        "id": "Qwf4BQfPeorm",
        "outputId": "57b9794c-48bf-4c41-ebd2-0fea93c01756"
      },
      "outputs": [
        {
          "output_type": "execute_result",
          "data": {
            "image/gif": "[encoded data removed]",
            "text/plain": [
              "<IPython.core.display.Image object>"
            ]
          },
          "metadata": {},
          "execution_count": 261
        }
      ],
      "source": [
        "#..................Conditional Statements......................................#\n",
        "Image(\"/content/drive/MyDrive/3MTT Data Science/Instructors' Notebook/conditional.gif\")"
      ]
    },
    {
      "cell_type": "markdown",
      "metadata": {
        "id": "ReWQY8D2-nPr"
      },
      "source": [
        "\n",
        "`IF` Statement\n",
        "\n",
        "What is an if statement?\n",
        "An if statement allows you to run certain code only if a condition is True. If the condition is False, the code inside the if block will not run."
      ]
    },
    {
      "cell_type": "markdown",
      "metadata": {
        "id": "PxCrD4p7BBGj"
      },
      "source": [
        "Let us see the Syntax of an if Statement"
      ]
    },
    {
      "cell_type": "code",
      "execution_count": null,
      "metadata": {
        "id": "pDAQOMIGyjwE"
      },
      "outputs": [],
      "source": [
        "#if {condition}:\n",
        "#  {\"do somthing\"}\n",
        "    # code to run if condition is True"
      ]
    },
    {
      "cell_type": "markdown",
      "metadata": {
        "id": "jfOCufIIBadN"
      },
      "source": [
        "- condition: This is a test expression that evaluates to either True or False.\n",
        "- :(colon) : Marks the start of the indented block of code.\n",
        "- Indentation: The code inside the if block must be indented (usually 4 spaces)."
      ]
    },
    {
      "cell_type": "code",
      "execution_count": null,
      "metadata": {
        "id": "cX9V3-oc-Kai"
      },
      "outputs": [],
      "source": [
        "# Let's see an example of a basic 'if' statement using the input input...\n",
        "age = int(input(\"please, enter your age: \"))\n",
        "\n",
        "if age <= 12:\n",
        "    print(\"You are a child.\")"
      ]
    },
    {
      "cell_type": "code",
      "execution_count": null,
      "metadata": {
        "id": "6ADjqn1r-ETy"
      },
      "outputs": [],
      "source": [
        "# LEts see an example of \"if else\" statement using  input function...\n",
        "age = int(input(\"Enter your age: \"))\n",
        "\n",
        "if age <= 12:\n",
        "  print(\"You are a child.\")\n",
        "else:\n",
        "  print(\"You are a teenager.\")"
      ]
    },
    {
      "cell_type": "code",
      "execution_count": null,
      "metadata": {
        "id": "KUflbaBPfzYn"
      },
      "outputs": [],
      "source": [
        "# Lets see an example of a basic \"if elif else\" statement.\n",
        "age = int(input(\"Enter your age: \"))\n",
        "\n",
        "if age <= 12:\n",
        "  print(\"You are a child.\")\n",
        "elif age <= 19:\n",
        "  print(\"You are a teenager.\")\n",
        "else:\n",
        "  print(\"You are a young adult.\")"
      ]
    },
    {
      "cell_type": "code",
      "execution_count": null,
      "metadata": {
        "id": "jQzmI8zc4we-"
      },
      "outputs": [],
      "source": [
        "# Lets use \"more than one elif\" statement...\n",
        "age = int(input(\"Enter your age: \"))\n",
        "\n",
        "if age <= 12:\n",
        "  print(\"You are a child.\")\n",
        "elif age <= 19:\n",
        "  print(\"You are a teenager.\")\n",
        "elif age <= 35:\n",
        "  print(\"You are a young adult.\")\n",
        "else:\n",
        "  print(\"You are an adult.\")"
      ]
    },
    {
      "cell_type": "code",
      "execution_count": null,
      "metadata": {
        "id": "lpDnsUcn4wJA"
      },
      "outputs": [],
      "source": [
        "# lets use \"multiple elif \" statement...\n",
        "age = int(input(\"Enter your age: \"))\n",
        "\n",
        "if age <= 12:\n",
        "  print(\"You are a child.\")\n",
        "elif age <= 19:\n",
        "  print(\"You are a teenager.\")\n",
        "elif age <= 35:\n",
        "  print(\"You are a young adult.\")\n",
        "elif age <= 65:\n",
        "  print(\"You are an adult.\")\n",
        "else:\n",
        "  print(\"You are a senior citizen.\")"
      ]
    },
    {
      "cell_type": "markdown",
      "metadata": {
        "id": "9_S6ZP273xbP"
      },
      "source": [
        "[Kindly sign your attendance here](https://forms.gle/shfw5Ax1PiyV9zd79)"
      ]
    },
    {
      "cell_type": "markdown",
      "metadata": {
        "id": "LTRC-GPMmGHG"
      },
      "source": [
        "### Mini Project 2\n",
        "1. Take students score as an input.The score should be an integer between 0 and 100.\n",
        "2. Calcuate the corresponding letter grade based on the following scale:\n",
        "* A : 80 - 100\n",
        "* B : 70 - 79\n",
        "* C : 50 - 69\n",
        "* D : 45 - 49\n",
        "* F : Below 44\n",
        "3. It should be able to print out the grades when a score is entered."
      ]
    },
    {
      "cell_type": "code",
      "execution_count": null,
      "metadata": {
        "id": "poOtkBSdscPy"
      },
      "outputs": [],
      "source": [
        "#mini project 2\n",
        "student_score = int(input ('your score:'))"
      ]
    },
    {
      "cell_type": "code",
      "execution_count": null,
      "metadata": {
        "id": "SkRbDEwNFy-h"
      },
      "outputs": [],
      "source": []
    },
    {
      "cell_type": "markdown",
      "metadata": {
        "id": "-sFIRpVesc9k"
      },
      "source": [
        "**Nested if and if-else statements**\n",
        "* Are conditional statements within other conditional statements. They allow you to create more complex decision-making structures in your code.\n",
        "\n",
        "\n",
        "**Nested if**\n",
        "* You can have an if statement inside another if statement. The inner if statement will only be executed if the outer if statement's condition is true.\n",
        "\n",
        "**Nested if-else**\n",
        "* You can have an if-else statement inside another if or if-else statement. This allows you to handle multiple conditions and outcomes in a hierarchical manner, that is, following hierarchies."
      ]
    },
    {
      "cell_type": "code",
      "execution_count": null,
      "metadata": {
        "id": "7vb41CBmsavR"
      },
      "outputs": [],
      "source": []
    },
    {
      "cell_type": "code",
      "execution_count": null,
      "metadata": {
        "id": "YLHVQKXd4vrB"
      },
      "outputs": [],
      "source": [
        "#..............................Nested if............................#\n",
        "if condition1:\n",
        "        # code to execute if condition1 is true\n",
        "        if condition2:\n",
        "            # code to execute if condition1 and condition2 are true"
      ]
    },
    {
      "cell_type": "code",
      "execution_count": null,
      "metadata": {
        "id": "5xF7FDTQrusC"
      },
      "outputs": [],
      "source": [
        "# LEts check if input is a positive number and even number\n",
        "num = int(input(\"Enter a number: \"))\n",
        "\n",
        "if num > 0:\n",
        "  print(\"The number is positive.\")\n",
        "  if num % 2 == 0:\n",
        "    print(\"The number is even.\")"
      ]
    },
    {
      "cell_type": "code",
      "execution_count": null,
      "metadata": {
        "id": "KqAnG70_4zlC"
      },
      "outputs": [],
      "source": [
        "#..................................Nested if else................................#\n",
        "if condition1:\n",
        "        # code to execute if condition1 is true\n",
        "        if condition2:\n",
        "            # code to execute if condition1 and condition2 are true\n",
        "        else:\n",
        "            # code to execute if condition1 is true and condition2 is false\n",
        "    else:\n",
        "        # code to execute if condition1 is false"
      ]
    },
    {
      "cell_type": "code",
      "execution_count": null,
      "metadata": {
        "id": "0_ynQKqq4zQC"
      },
      "outputs": [],
      "source": [
        "# Lets work on eligibility of who can join the military\n",
        "\n",
        "age = int(input(\"Enter your age: \"))\n",
        "\n",
        "height = int(input(\"Enter your height in centimeters: \"))\n",
        "\n",
        "if age >= 18:\n",
        "    if height >= 170:\n",
        "        print(\"You are eligible to join the army.\")\n",
        "    else:\n",
        "        print(\"You are not tall enough to join the army.\")\n",
        "else:\n",
        "    print(\"You are too young to join the army.\")"
      ]
    },
    {
      "cell_type": "markdown",
      "metadata": {
        "id": "acJyGszUT3yN"
      },
      "source": [
        "### Functions\n",
        "In programming, a function is like a mini-program within a larger program. It helps you group a set of tasks that need to be performed multiple times. You can think of a function like a recipe: just like you follow specific steps to make a meal, in programming, a function follows a set of instructions to achieve a task.\n",
        "\n",
        "\n",
        "Think of a coffee machine as a function in real life. You press a button (provide inputs like 'Cappuccino' or 'Latte'), and the coffee machine processes your input and gives you a coffee (the output). Inside the machine, there are steps, like heating water and mixing coffee, which are hidden from you but executed to give the final result.\n",
        "\n",
        "\n",
        "In this analogy:\n",
        "\n",
        "- Input: The type of coffee (Cappuccino, Latte)\n",
        "- Process: The steps to make coffee (heating, mixing)\n",
        "- Output: Your coffee!\n",
        "In Python, functions work in a similar way."
      ]
    },
    {
      "cell_type": "code",
      "execution_count": null,
      "metadata": {
        "id": "79rWvX8gsu9P"
      },
      "outputs": [],
      "source": [
        "Image(\"/content/drive/MyDrive/3MTT Data Science/Instructors' Notebook/download (3).png\")"
      ]
    },
    {
      "cell_type": "markdown",
      "metadata": {
        "id": "sZhrplrKWKhK"
      },
      "source": [
        "#### Anatomy of a Function\n"
      ]
    },
    {
      "cell_type": "code",
      "execution_count": null,
      "metadata": {
        "id": "vFqJSM3SW4yR"
      },
      "outputs": [],
      "source": [
        "def function_name(parameters):\n",
        "\n",
        "    # Function body\n",
        "    # Perform tasks here\n",
        "    return result  # Optional: returns a value\n"
      ]
    },
    {
      "cell_type": "markdown",
      "metadata": {
        "id": "TvtwPdDEXGPs"
      },
      "source": [
        "\n",
        "Let's break down a typical function. A function is made up of the following:\n",
        "\n",
        "- The definition: A function is defined using the `def` keyword\n",
        "- Function name: A descriptive name to identify the function.\n",
        "- Parameters: Inputs to the function (optional). This is an argument that the user will need to input when using the function\n",
        "- Function body: The code inside the function that performs a specific task.\n",
        "- Return: Optional. The `return` keyword gives back a result when the function is called."
      ]
    },
    {
      "cell_type": "markdown",
      "metadata": {
        "id": "59KixnJWXQgG"
      },
      "source": [
        "#### Why Use Functions?\n",
        "\n",
        "Functions allow you to:\n",
        "\n",
        "- Organize code: Breaking down tasks into smaller chunks makes your code easier to read.\n",
        "- Reuse code: Once you write a function, you can use it multiple times without rewriting the same code.\n",
        "- Simplify debugging: Since functions are self-contained, it's easier to debug small pieces of code rather than the whole program."
      ]
    },
    {
      "cell_type": "markdown",
      "metadata": {
        "id": "AznnH1vMUB8-"
      },
      "source": [
        "#### Defining a function\n",
        "In Python, you define a function using the def keyword. Let’s write a simple function that greets someone:"
      ]
    },
    {
      "cell_type": "code",
      "execution_count": null,
      "metadata": {
        "id": "onHRlA4pV6TE"
      },
      "outputs": [],
      "source": [
        "# Defining a function\n",
        "def greet(name):\n",
        "    # This function prints a greeting message\n",
        "    print(f\"Hello, {name}! Welcome to the Python class.\")\n"
      ]
    },
    {
      "cell_type": "code",
      "execution_count": null,
      "metadata": {
        "id": "WwxgaFJCwGqH"
      },
      "outputs": [],
      "source": [
        "def greet_us(name):\n",
        "  print(f\"Hi, {name}, welcome to Data Science class, week 4\")"
      ]
    },
    {
      "cell_type": "code",
      "execution_count": null,
      "metadata": {
        "id": "obRAcCkNwu62"
      },
      "outputs": [],
      "source": [
        "greet_us(\"Agu Joy\")"
      ]
    },
    {
      "cell_type": "code",
      "execution_count": null,
      "metadata": {
        "id": "tkEgcTI3Ywj1"
      },
      "outputs": [],
      "source": [
        "# Calling the function\n",
        "greet(\"Alice\")"
      ]
    },
    {
      "cell_type": "markdown",
      "metadata": {
        "id": "PAiZxiMGjmIK"
      },
      "source": [
        "#### Function Without Parameters:\n",
        "\n",
        "Sometimes, we can define a function that doesn’t need any input. Here's an example:"
      ]
    },
    {
      "cell_type": "code",
      "execution_count": null,
      "metadata": {
        "id": "MXcOevdvV1V9"
      },
      "outputs": [],
      "source": [
        "def say_hello():\n",
        "    print(\"Hello, world!\")"
      ]
    },
    {
      "cell_type": "code",
      "execution_count": null,
      "metadata": {
        "id": "gEH0YmvSx-mc"
      },
      "outputs": [],
      "source": [
        "def greeting():\n",
        "  print(\"Hi, Welcome to Data Science class, week 4\")"
      ]
    },
    {
      "cell_type": "code",
      "execution_count": null,
      "metadata": {
        "id": "coXoKTmXyKjP"
      },
      "outputs": [],
      "source": [
        "greeting()"
      ]
    },
    {
      "cell_type": "code",
      "execution_count": null,
      "metadata": {
        "id": "PZthbi4iyKDV"
      },
      "outputs": [],
      "source": []
    },
    {
      "cell_type": "code",
      "execution_count": null,
      "metadata": {
        "id": "oDy-7HV6YtAP"
      },
      "outputs": [],
      "source": [
        "# Call the function\n",
        "say_hello()"
      ]
    },
    {
      "cell_type": "markdown",
      "metadata": {
        "id": "aaTsQh1CY5LS"
      },
      "source": [
        "#### Function With Multiple Parameters\n",
        "\n",
        "You can also pass one or more than one argument to a function"
      ]
    },
    {
      "cell_type": "code",
      "execution_count": null,
      "metadata": {
        "id": "Fkm6NzHsYzZc"
      },
      "outputs": [],
      "source": [
        "def add_numbers(a, b):\n",
        "    print(a + b)\n"
      ]
    },
    {
      "cell_type": "code",
      "execution_count": null,
      "metadata": {
        "id": "htaP625Zyfi-"
      },
      "outputs": [],
      "source": [
        "def Ibrahim_and_joy(Ibrahim_age, Joy_age):\n",
        "  print(Ibrahim_age +Joy_age)"
      ]
    },
    {
      "cell_type": "code",
      "execution_count": null,
      "metadata": {
        "id": "8NwN23h9y6G6"
      },
      "outputs": [],
      "source": [
        "Ibrahim_and_joy(22, 25)"
      ]
    },
    {
      "cell_type": "code",
      "execution_count": null,
      "metadata": {
        "id": "CwisQ7AuZJM7"
      },
      "outputs": [],
      "source": [
        "# Calling the function\n",
        "add_numbers(5, 3)\n"
      ]
    },
    {
      "cell_type": "code",
      "execution_count": null,
      "metadata": {
        "id": "4r0W-OQaZ7nX"
      },
      "outputs": [],
      "source": [
        "# Calling the function\n",
        "result = add_numbers(5, 3)\n"
      ]
    },
    {
      "cell_type": "code",
      "execution_count": null,
      "metadata": {
        "id": "Y4dwVx1Paljc"
      },
      "outputs": [],
      "source": [
        "result = add_numbers(5, 3)\n",
        "print(result)"
      ]
    },
    {
      "cell_type": "markdown",
      "metadata": {
        "id": "JKr9JQeUZQs_"
      },
      "source": [
        "####  Function with a Return Statement\n",
        "\n",
        "You can use the `return` statement to get a value from a function"
      ]
    },
    {
      "cell_type": "code",
      "execution_count": null,
      "metadata": {
        "id": "PiDzEG8CZj1D"
      },
      "outputs": [],
      "source": [
        "def add_numbers(a, b):\n",
        "    return a + b"
      ]
    },
    {
      "cell_type": "code",
      "execution_count": null,
      "metadata": {
        "id": "hCW6CDztZlaL"
      },
      "outputs": [],
      "source": [
        "add_numbers(2,3)"
      ]
    },
    {
      "cell_type": "code",
      "execution_count": null,
      "metadata": {
        "id": "UfljC9pLaTvp"
      },
      "outputs": [],
      "source": [
        "result = add_numbers(4)\n",
        "print(result)  # TypeError :because we used 1 arguments/parameters as input when we defined the function to take in just 2 parameters as input"
      ]
    },
    {
      "cell_type": "code",
      "execution_count": null,
      "metadata": {
        "id": "GKKc8UPtau1P"
      },
      "outputs": [],
      "source": [
        "result = add_numbers(2,3,4)\n",
        "print(result) # TypeError :because we used 3 arguments/parameters as input when we defined the function to take in just 2 parameters as input."
      ]
    },
    {
      "cell_type": "code",
      "execution_count": null,
      "metadata": {
        "id": "cnlLndYwZlGP"
      },
      "outputs": [],
      "source": [
        "def square_number(x):\n",
        "    return x * x"
      ]
    },
    {
      "cell_type": "code",
      "execution_count": null,
      "metadata": {
        "id": "P39GvxXea4rf"
      },
      "outputs": [],
      "source": [
        "result = square_number(4)\n",
        "print(result)  # Output: 16"
      ]
    },
    {
      "cell_type": "markdown",
      "metadata": {
        "id": "gLS9uYqdp15u"
      },
      "source": [
        "Variables outside the function have a global scope and can be accessed inside the function."
      ]
    },
    {
      "cell_type": "markdown",
      "metadata": {
        "id": "0ngWGhz9bKvT"
      },
      "source": [
        "#### Default Parameters\n",
        "\n",
        "You can set a default value for a function’s parameter, which will be used if no argument is provided."
      ]
    },
    {
      "cell_type": "code",
      "execution_count": null,
      "metadata": {
        "id": "aZA7B08rbDW8"
      },
      "outputs": [],
      "source": [
        "def greet(name=\"stranger\"):\n",
        "    return (f\"Hello, {name}!\")"
      ]
    },
    {
      "cell_type": "markdown",
      "metadata": {
        "id": "xF6Zn62Obrx1"
      },
      "source": [
        "`name=\"stranger\"` – If no name is provided when calling the function, it uses \"stranger\" as the default value. Let us see this below"
      ]
    },
    {
      "cell_type": "code",
      "execution_count": null,
      "metadata": {
        "id": "dvsD2owwbcdR"
      },
      "outputs": [],
      "source": [
        "greet()"
      ]
    },
    {
      "cell_type": "code",
      "execution_count": null,
      "metadata": {
        "id": "MBRblKBtbi5R"
      },
      "outputs": [],
      "source": [
        "greet(\"Chisom\")"
      ]
    },
    {
      "cell_type": "markdown",
      "metadata": {
        "id": "a5E9ugq2b7Qo"
      },
      "source": [
        "#### Keyword Arguments\n",
        "\n",
        "You can specify arguments using their parameter names. This is essentially useful when a function has many parameters."
      ]
    },
    {
      "cell_type": "code",
      "execution_count": null,
      "metadata": {
        "id": "45AvrqR9bm1r"
      },
      "outputs": [],
      "source": [
        "def introduce(name, age, city):\n",
        "    print(f\"My name is {name}, I am {age} years old, and I live in {city}.\")"
      ]
    },
    {
      "cell_type": "code",
      "execution_count": null,
      "metadata": {
        "id": "6r9uIAzHcHqe"
      },
      "outputs": [],
      "source": [
        "introduce(age=25, name=\"Alice\", city=\"New York\")"
      ]
    },
    {
      "cell_type": "markdown",
      "metadata": {
        "id": "80Ks-bJVcMSZ"
      },
      "source": [
        "#### Lambda Functions\n",
        "A lambda function is a small anonymous function defined using the lambda keyword. It's often used for short, simple tasks.\n",
        "Let's see an example below"
      ]
    },
    {
      "cell_type": "code",
      "execution_count": null,
      "metadata": {
        "id": "feXkKYVOcKfp"
      },
      "outputs": [],
      "source": [
        "# Lambda function to add two numbers\n",
        "add = lambda x, y: x + y"
      ]
    },
    {
      "cell_type": "markdown",
      "metadata": {
        "id": "2qCVv1xKcndR"
      },
      "source": [
        " - lambda - This is the keyword definition of the kind of function we are trying to describe, `lambda function`\n",
        " - x, y: This is the parameters/input the function takes in\n",
        " - x + y: This opertaion being carried out. i.e the output of the function.\n",
        "\n",
        " In general, `lambda x, y: x + y` creates an anonymous function that takes two arguments, x and y, and returns their sum."
      ]
    },
    {
      "cell_type": "code",
      "execution_count": null,
      "metadata": {
        "id": "X9FO2MffchIq"
      },
      "outputs": [],
      "source": [
        "print(add(2, 3))"
      ]
    },
    {
      "cell_type": "markdown",
      "metadata": {
        "id": "feRmJhehdgj_"
      },
      "source": [
        "#### Scope of Variables in a Function\n",
        "\n",
        "Variables created inside a function are local to that function and can’t be accessed from outside. This is called local scope. Let's see an example"
      ]
    },
    {
      "cell_type": "code",
      "execution_count": null,
      "metadata": {
        "id": "Qd7JHFnidf2F"
      },
      "outputs": [],
      "source": [
        "def my_function():\n",
        "    x = 10\n",
        "    return x"
      ]
    },
    {
      "cell_type": "code",
      "execution_count": null,
      "metadata": {
        "id": "5DUDrXXed2as"
      },
      "outputs": [],
      "source": [
        "my_function()"
      ]
    },
    {
      "cell_type": "code",
      "execution_count": null,
      "metadata": {
        "id": "wRYX6o0rd9yf"
      },
      "outputs": [],
      "source": [
        "print(x)  # Error: NameError because 'x' is not defined outside the function"
      ]
    },
    {
      "cell_type": "code",
      "execution_count": null,
      "metadata": {
        "id": "rKFgCZAQqcaG"
      },
      "outputs": [],
      "source": [
        "x = 5  # Global variable"
      ]
    },
    {
      "cell_type": "code",
      "execution_count": null,
      "metadata": {
        "id": "tX0yeyg_pqsa"
      },
      "outputs": [],
      "source": [
        "def print_number():\n",
        "    print(x)"
      ]
    },
    {
      "cell_type": "code",
      "execution_count": null,
      "metadata": {
        "id": "Si8YL8fIqhM1"
      },
      "outputs": [],
      "source": [
        "print_number()  # Output: 5"
      ]
    },
    {
      "cell_type": "markdown",
      "metadata": {
        "id": "v9EWrtQmqt0I"
      },
      "source": [
        "### CLASS TASK\n",
        "\n",
        "- Write a function 'multiply', that takes two numbers as input and returns their product.\n",
        "- Write a function 'is_even', that takes a number and returns True if it's even, and False otherwise.\n",
        "- Write a function that prints your name 5 times using a loop inside the function.\n"
      ]
    },
    {
      "cell_type": "code",
      "execution_count": null,
      "metadata": {
        "id": "qBahoAS-8mnt"
      },
      "outputs": [],
      "source": []
    },
    {
      "cell_type": "code",
      "execution_count": null,
      "metadata": {
        "id": "jEzGhE1IrCiA"
      },
      "outputs": [],
      "source": []
    },
    {
      "cell_type": "markdown",
      "metadata": {
        "id": "luEmBJEDo8g_"
      },
      "source": []
    },
    {
      "cell_type": "markdown",
      "metadata": {
        "id": "h4CXDHNco8hA"
      },
      "source": [
        "### Week3_class1"
      ]
    },
    {
      "cell_type": "code",
      "execution_count": null,
      "metadata": {
        "colab": {
          "base_uri": "https://localhost:8080/",
          "height": 53
        },
        "outputId": "c3bbc5dc-b152-44eb-ec41-6e03c428bfab",
        "id": "JRo3ryrro8hB"
      },
      "outputs": [
        {
          "output_type": "execute_result",
          "data": {
            "text/plain": [
              "'In Python, a set is an unordered collection of unique elements.You can create a set by enclosing comma-separated elements within curly braces {} or by using the set() constructor. They are mutable but each element is unique, hence it contains no duplicates.'"
            ],
            "application/vnd.google.colaboratory.intrinsic+json": {
              "type": "string"
            }
          },
          "metadata": {},
          "execution_count": 242
        }
      ],
      "source": [
        "#...............Sets and how to manipulate sets.........................#\n",
        "'''In Python, a set is an unordered collection of unique elements.You can create a set by enclosing comma-separated elements within curly braces {} or by using the set() constructor. They are mutable but each element is unique, hence it contains no duplicates.'''"
      ]
    },
    {
      "cell_type": "code",
      "execution_count": null,
      "metadata": {
        "colab": {
          "base_uri": "https://localhost:8080/"
        },
        "outputId": "b9fe3503-40c3-4a46-ced6-4a3aa9587837",
        "id": "b0i5qEnVo8hC"
      },
      "outputs": [
        {
          "output_type": "stream",
          "name": "stdout",
          "text": [
            "{1, 2, 3, 4, 5}\n"
          ]
        }
      ],
      "source": [
        "# lets create a set\n",
        "my_set = {1,2,3,4,5}\n",
        "print(my_set)"
      ]
    },
    {
      "cell_type": "code",
      "execution_count": null,
      "metadata": {
        "colab": {
          "base_uri": "https://localhost:8080/"
        },
        "outputId": "3823e394-3a20-4d71-bf82-22077df68bef",
        "id": "i2gKJWMZo8hD"
      },
      "outputs": [
        {
          "output_type": "execute_result",
          "data": {
            "text/plain": [
              "set"
            ]
          },
          "metadata": {},
          "execution_count": 244
        }
      ],
      "source": [
        "# lets check the type\n",
        "type(my_set)"
      ]
    },
    {
      "cell_type": "code",
      "execution_count": null,
      "metadata": {
        "colab": {
          "base_uri": "https://localhost:8080/"
        },
        "outputId": "83909668-83ae-4a11-f25f-57b190ebd255",
        "id": "Z7uPTMdxo8hE"
      },
      "outputs": [
        {
          "output_type": "stream",
          "name": "stdout",
          "text": [
            "1\n",
            "2\n",
            "3\n",
            "4\n",
            "5\n"
          ]
        }
      ],
      "source": [
        "# lets iterate through the set\n",
        "for item in my_set:\n",
        "  print(item)"
      ]
    },
    {
      "cell_type": "code",
      "execution_count": null,
      "metadata": {
        "id": "Izx7o1L-o8hE"
      },
      "outputs": [],
      "source": [
        "# lets add an element to our set...Hint: Using the add()function\n",
        "my_set.add(6)"
      ]
    },
    {
      "cell_type": "code",
      "execution_count": null,
      "metadata": {
        "id": "S0QOnXV1o8hF"
      },
      "outputs": [],
      "source": [
        "# lets remove the first element, which is 1\n",
        "my_set.remove(1) # disadevange of using .remove() function, if its not in the set, it will throw error message\n"
      ]
    },
    {
      "cell_type": "code",
      "execution_count": null,
      "metadata": {
        "colab": {
          "base_uri": "https://localhost:8080/"
        },
        "outputId": "143f404b-f5d2-47fe-f758-44e3eaa66a07",
        "id": "n5i2L6lHo8hG"
      },
      "outputs": [
        {
          "output_type": "stream",
          "name": "stdout",
          "text": [
            "{3, 4, 5, 6}\n"
          ]
        }
      ],
      "source": [
        "# We can better use .discard() to remove elements\n",
        "my_set.discard(2)\n",
        "print(my_set)"
      ]
    },
    {
      "cell_type": "code",
      "execution_count": null,
      "metadata": {
        "colab": {
          "base_uri": "https://localhost:8080/"
        },
        "outputId": "08585df3-be85-42b5-fab1-0fd95bd567ba",
        "id": "_itYvdCco8hG"
      },
      "outputs": [
        {
          "output_type": "stream",
          "name": "stdout",
          "text": [
            "{1, 2, 3, 4, 5, 6, 7, 8}\n"
          ]
        }
      ],
      "source": [
        "# lets combine two sets. Hint: use a union() function\n",
        "set1 = {1,2,3,4,5}\n",
        "set2 = {4,5,6,7,8}\n",
        "combined_set = set1.union(set2)\n",
        "print(combined_set)"
      ]
    },
    {
      "cell_type": "code",
      "execution_count": null,
      "metadata": {
        "colab": {
          "base_uri": "https://localhost:8080/"
        },
        "outputId": "0d67ff2f-f0d9-42bd-bed1-81a4e6f6db77",
        "id": "ZQu7Hsrjo8hH"
      },
      "outputs": [
        {
          "output_type": "stream",
          "name": "stdout",
          "text": [
            "{4, 5}\n"
          ]
        }
      ],
      "source": [
        "# lets chech the elements that are the same in two sets or unique to the two sets. Hint: use .intersection()\n",
        "set1 = {1,2,3,4,5}\n",
        "set2 = {4,5,6,7,8}\n",
        "intersection_set = set1.intersection(set2)\n",
        "print(intersection_set)"
      ]
    },
    {
      "cell_type": "markdown",
      "metadata": {
        "id": "LOR252Vko8hI"
      },
      "source": [
        "Assignment:\n",
        "1. Do a study on set data structure, find out about a. difference, b.issubset, c.issuperset."
      ]
    },
    {
      "cell_type": "markdown",
      "metadata": {
        "id": "HYeaeF-7o8hI"
      },
      "source": [
        "**Mini Project:**\n",
        "1. Create an email splitter.\n",
        "* Create a script that will take your email address as an input. Then use the dot split() method to split the email into username and domain name.\n",
        "\n",
        "2. Create an ID or MatricNo splitter.\n",
        "* Create a script that will take in your FellowID as an input. Then use the dot split() method to split your fellowID into 3 (fellow, year and ID)\n",
        "\n",
        "3. Create a character, word and sentence counter.\n",
        "* Create a script that will take in a word or sentence. Then use the dot split(), dot count() and dot len() methods to build your logic.\n"
      ]
    },
    {
      "cell_type": "markdown",
      "metadata": {
        "id": "nim_ykewo8hJ"
      },
      "source": [
        "[link to attendance](https://forms.gle/5biBEB3z1yKE6TmCA)"
      ]
    },
    {
      "cell_type": "code",
      "execution_count": null,
      "metadata": {
        "id": "9sps3s6Uo8hJ"
      },
      "outputs": [],
      "source": []
    },
    {
      "cell_type": "markdown",
      "metadata": {
        "id": "78S_d-xTo8hJ"
      },
      "source": [
        "### Control Statement"
      ]
    },
    {
      "cell_type": "markdown",
      "metadata": {
        "id": "5UlDNUPzo8hJ"
      },
      "source": [
        "Control statements are like the instructions that tell your program what to do next based on different situations. They are also used to alter the flow of a program based on certain conditions. The most common control statement is the if statement, which helps us make decisions in our code.\n",
        "\n",
        "We have different type of control statements;\n",
        "####  Conditional Statements\n",
        "- `if` statement\n",
        "\n",
        "- `if-else` statement\n",
        "\n",
        "- `if-elif-else` statement\n",
        "\n",
        "####  Looping Statements\n",
        "\n",
        "- `for` loop\n",
        "\n",
        "- `while` loop\n",
        "\n",
        "####  Control Flow Alteration Statements\n",
        "\n",
        "- `break` statement\n",
        "\n",
        "- `continue` statement\n",
        "\n",
        "- `pass` statement"
      ]
    },
    {
      "cell_type": "markdown",
      "metadata": {
        "id": "zoXSg4pjo8hK"
      },
      "source": [
        "#### Conditional Statement"
      ]
    },
    {
      "cell_type": "code",
      "execution_count": null,
      "metadata": {
        "colab": {
          "base_uri": "https://localhost:8080/",
          "height": 383
        },
        "outputId": "57b9794c-48bf-4c41-ebd2-0fea93c01756",
        "id": "Z6IVYT8Fo8hK"
      },
      "outputs": [
        {
          "output_type": "execute_result",
          "data": {
            "image/gif": "[encoded data removed]",
            "text/plain": [
              "<IPython.core.display.Image object>"
            ]
          },
          "metadata": {},
          "execution_count": 261
        }
      ],
      "source": [
        "#..................Conditional Statements......................................#\n",
        "Image(\"/content/drive/MyDrive/3MTT Data Science/Instructors' Notebook/conditional.gif\")"
      ]
    },
    {
      "cell_type": "markdown",
      "metadata": {
        "id": "s39Bpr8yo8hL"
      },
      "source": [
        "\n",
        "`IF` Statement\n",
        "\n",
        "What is an if statement?\n",
        "An if statement allows you to run certain code only if a condition is True. If the condition is False, the code inside the if block will not run."
      ]
    },
    {
      "cell_type": "markdown",
      "metadata": {
        "id": "hY65md_Oo8hL"
      },
      "source": [
        "Let us see the Syntax of an if Statement"
      ]
    },
    {
      "cell_type": "code",
      "execution_count": null,
      "metadata": {
        "id": "bDfRT6r4o8hL"
      },
      "outputs": [],
      "source": [
        "#if {condition}:\n",
        "#  {\"do somthing\"}\n",
        "    # code to run if condition is True"
      ]
    },
    {
      "cell_type": "markdown",
      "metadata": {
        "id": "7qon34wDo8hM"
      },
      "source": [
        "- condition: This is a test expression that evaluates to either True or False.\n",
        "- :(colon) : Marks the start of the indented block of code.\n",
        "- Indentation: The code inside the if block must be indented (usually 4 spaces)."
      ]
    },
    {
      "cell_type": "code",
      "execution_count": null,
      "metadata": {
        "id": "kwoYdu3ao8hM"
      },
      "outputs": [],
      "source": [
        "# Let's see an example of a basic 'if' statement using the input input...\n",
        "age = int(input(\"please, enter your age: \"))\n",
        "\n",
        "if age <= 12:\n",
        "    print(\"You are a child.\")"
      ]
    },
    {
      "cell_type": "code",
      "execution_count": null,
      "metadata": {
        "id": "TxjnP5gfo8hM"
      },
      "outputs": [],
      "source": [
        "# LEts see an example of \"if else\" statement using  input function...\n",
        "age = int(input(\"Enter your age: \"))\n",
        "\n",
        "if age <= 12:\n",
        "  print(\"You are a child.\")\n",
        "else:\n",
        "  print(\"You are a teenager.\")"
      ]
    },
    {
      "cell_type": "code",
      "execution_count": null,
      "metadata": {
        "id": "tgSehDjZo8hN"
      },
      "outputs": [],
      "source": [
        "# Lets see an example of a basic \"if elif else\" statement.\n",
        "age = int(input(\"Enter your age: \"))\n",
        "\n",
        "if age <= 12:\n",
        "  print(\"You are a child.\")\n",
        "elif age <= 19:\n",
        "  print(\"You are a teenager.\")\n",
        "else:\n",
        "  print(\"You are a young adult.\")"
      ]
    },
    {
      "cell_type": "code",
      "execution_count": null,
      "metadata": {
        "id": "fyTLgUn8o8hN"
      },
      "outputs": [],
      "source": [
        "# Lets use \"more than one elif\" statement...\n",
        "age = int(input(\"Enter your age: \"))\n",
        "\n",
        "if age <= 12:\n",
        "  print(\"You are a child.\")\n",
        "elif age <= 19:\n",
        "  print(\"You are a teenager.\")\n",
        "elif age <= 35:\n",
        "  print(\"You are a young adult.\")\n",
        "else:\n",
        "  print(\"You are an adult.\")"
      ]
    },
    {
      "cell_type": "code",
      "execution_count": null,
      "metadata": {
        "id": "Zl7LYzx4o8hN"
      },
      "outputs": [],
      "source": [
        "# lets use \"multiple elif \" statement...\n",
        "age = int(input(\"Enter your age: \"))\n",
        "\n",
        "if age <= 12:\n",
        "  print(\"You are a child.\")\n",
        "elif age <= 19:\n",
        "  print(\"You are a teenager.\")\n",
        "elif age <= 35:\n",
        "  print(\"You are a young adult.\")\n",
        "elif age <= 65:\n",
        "  print(\"You are an adult.\")\n",
        "else:\n",
        "  print(\"You are a senior citizen.\")"
      ]
    },
    {
      "cell_type": "markdown",
      "metadata": {
        "id": "chb4DFAno8hO"
      },
      "source": [
        "[Kindly sign your attendance here](https://forms.gle/shfw5Ax1PiyV9zd79)"
      ]
    },
    {
      "cell_type": "markdown",
      "metadata": {
        "id": "8cEqyD3ao8hO"
      },
      "source": [
        "### Mini Project 2\n",
        "1. Take students score as an input.The score should be an integer between 0 and 100.\n",
        "2. Calcuate the corresponding letter grade based on the following scale:\n",
        "* A : 80 - 100\n",
        "* B : 70 - 79\n",
        "* C : 50 - 69\n",
        "* D : 45 - 49\n",
        "* F : Below 44\n",
        "3. It should be able to print out the grades when a score is entered."
      ]
    },
    {
      "cell_type": "code",
      "execution_count": null,
      "metadata": {
        "id": "VRcTh9tHo8hP"
      },
      "outputs": [],
      "source": [
        "#mini project 2\n",
        "student_score = int(input ('your score:'))"
      ]
    },
    {
      "cell_type": "code",
      "execution_count": null,
      "metadata": {
        "id": "OVifC_rVo8hP"
      },
      "outputs": [],
      "source": []
    },
    {
      "cell_type": "markdown",
      "metadata": {
        "id": "273q4J-Eo8hQ"
      },
      "source": [
        "**Nested if and if-else statements**\n",
        "* Are conditional statements within other conditional statements. They allow you to create more complex decision-making structures in your code.\n",
        "\n",
        "\n",
        "**Nested if**\n",
        "* You can have an if statement inside another if statement. The inner if statement will only be executed if the outer if statement's condition is true.\n",
        "\n",
        "**Nested if-else**\n",
        "* You can have an if-else statement inside another if or if-else statement. This allows you to handle multiple conditions and outcomes in a hierarchical manner, that is, following hierarchies."
      ]
    },
    {
      "cell_type": "code",
      "execution_count": null,
      "metadata": {
        "id": "6vvNBqgQo8hQ"
      },
      "outputs": [],
      "source": []
    },
    {
      "cell_type": "code",
      "execution_count": null,
      "metadata": {
        "id": "EhVhaRHCo8hQ"
      },
      "outputs": [],
      "source": [
        "#..............................Nested if............................#\n",
        "if condition1:\n",
        "        # code to execute if condition1 is true\n",
        "        if condition2:\n",
        "            # code to execute if condition1 and condition2 are true"
      ]
    },
    {
      "cell_type": "code",
      "execution_count": null,
      "metadata": {
        "id": "gIXaQnspo8hQ"
      },
      "outputs": [],
      "source": [
        "# LEts check if input is a positive number and even number\n",
        "num = int(input(\"Enter a number: \"))\n",
        "\n",
        "if num > 0:\n",
        "  print(\"The number is positive.\")\n",
        "  if num % 2 == 0:\n",
        "    print(\"The number is even.\")"
      ]
    },
    {
      "cell_type": "code",
      "execution_count": null,
      "metadata": {
        "id": "RKWiCuUNo8hR"
      },
      "outputs": [],
      "source": [
        "#..................................Nested if else................................#\n",
        "if condition1:\n",
        "        # code to execute if condition1 is true\n",
        "        if condition2:\n",
        "            # code to execute if condition1 and condition2 are true\n",
        "        else:\n",
        "            # code to execute if condition1 is true and condition2 is false\n",
        "    else:\n",
        "        # code to execute if condition1 is false"
      ]
    },
    {
      "cell_type": "code",
      "execution_count": null,
      "metadata": {
        "id": "gLlukJyNo8hR"
      },
      "outputs": [],
      "source": [
        "# Lets work on eligibility of who can join the military\n",
        "\n",
        "age = int(input(\"Enter your age: \"))\n",
        "\n",
        "height = int(input(\"Enter your height in centimeters: \"))\n",
        "\n",
        "if age >= 18:\n",
        "    if height >= 170:\n",
        "        print(\"You are eligible to join the army.\")\n",
        "    else:\n",
        "        print(\"You are not tall enough to join the army.\")\n",
        "else:\n",
        "    print(\"You are too young to join the army.\")"
      ]
    },
    {
      "cell_type": "markdown",
      "metadata": {
        "id": "mndkj966o8hS"
      },
      "source": [
        "### Functions\n",
        "In programming, a function is like a mini-program within a larger program. It helps you group a set of tasks that need to be performed multiple times. You can think of a function like a recipe: just like you follow specific steps to make a meal, in programming, a function follows a set of instructions to achieve a task.\n",
        "\n",
        "\n",
        "Think of a coffee machine as a function in real life. You press a button (provide inputs like 'Cappuccino' or 'Latte'), and the coffee machine processes your input and gives you a coffee (the output). Inside the machine, there are steps, like heating water and mixing coffee, which are hidden from you but executed to give the final result.\n",
        "\n",
        "\n",
        "In this analogy:\n",
        "\n",
        "- Input: The type of coffee (Cappuccino, Latte)\n",
        "- Process: The steps to make coffee (heating, mixing)\n",
        "- Output: Your coffee!\n",
        "In Python, functions work in a similar way."
      ]
    },
    {
      "cell_type": "code",
      "execution_count": null,
      "metadata": {
        "id": "A-jCEQMuo8hS"
      },
      "outputs": [],
      "source": [
        "Image(\"/content/drive/MyDrive/3MTT Data Science/Instructors' Notebook/download (3).png\")"
      ]
    },
    {
      "cell_type": "markdown",
      "metadata": {
        "id": "mRAh7ddSo8hV"
      },
      "source": [
        "#### Anatomy of a Function\n"
      ]
    },
    {
      "cell_type": "code",
      "execution_count": null,
      "metadata": {
        "id": "fxrig9Y_o8hW"
      },
      "outputs": [],
      "source": [
        "def function_name(parameters):\n",
        "\n",
        "    # Function body\n",
        "    # Perform tasks here\n",
        "    return result  # Optional: returns a value\n"
      ]
    },
    {
      "cell_type": "markdown",
      "metadata": {
        "id": "ouVhV5O4o8hX"
      },
      "source": [
        "\n",
        "Let's break down a typical function. A function is made up of the following:\n",
        "\n",
        "- The definition: A function is defined using the `def` keyword\n",
        "- Function name: A descriptive name to identify the function.\n",
        "- Parameters: Inputs to the function (optional). This is an argument that the user will need to input when using the function\n",
        "- Function body: The code inside the function that performs a specific task.\n",
        "- Return: Optional. The `return` keyword gives back a result when the function is called."
      ]
    },
    {
      "cell_type": "markdown",
      "metadata": {
        "id": "wYw19S_Qo8hY"
      },
      "source": [
        "#### Why Use Functions?\n",
        "\n",
        "Functions allow you to:\n",
        "\n",
        "- Organize code: Breaking down tasks into smaller chunks makes your code easier to read.\n",
        "- Reuse code: Once you write a function, you can use it multiple times without rewriting the same code.\n",
        "- Simplify debugging: Since functions are self-contained, it's easier to debug small pieces of code rather than the whole program."
      ]
    },
    {
      "cell_type": "markdown",
      "metadata": {
        "id": "N3EIcRGSo8hY"
      },
      "source": [
        "#### Defining a function\n",
        "In Python, you define a function using the def keyword. Let’s write a simple function that greets someone:"
      ]
    },
    {
      "cell_type": "code",
      "execution_count": null,
      "metadata": {
        "id": "NLB3mgWso8hZ"
      },
      "outputs": [],
      "source": [
        "# Defining a function\n",
        "def greet(name):\n",
        "    # This function prints a greeting message\n",
        "    print(f\"Hello, {name}! Welcome to the Python class.\")\n"
      ]
    },
    {
      "cell_type": "code",
      "execution_count": null,
      "metadata": {
        "id": "o5-q4bvio8hZ"
      },
      "outputs": [],
      "source": [
        "def greet_us(name):\n",
        "  print(f\"Hi, {name}, welcome to Data Science class, week 4\")"
      ]
    },
    {
      "cell_type": "code",
      "execution_count": null,
      "metadata": {
        "id": "5KWVohCPo8ha"
      },
      "outputs": [],
      "source": [
        "greet_us(\"Agu Joy\")"
      ]
    },
    {
      "cell_type": "code",
      "execution_count": null,
      "metadata": {
        "id": "Fsfk7pjHo8ha"
      },
      "outputs": [],
      "source": [
        "# Calling the function\n",
        "greet(\"Alice\")"
      ]
    },
    {
      "cell_type": "markdown",
      "metadata": {
        "id": "5h5WuBg0o8ha"
      },
      "source": [
        "#### Function Without Parameters:\n",
        "\n",
        "Sometimes, we can define a function that doesn’t need any input. Here's an example:"
      ]
    },
    {
      "cell_type": "code",
      "execution_count": null,
      "metadata": {
        "id": "tbmQ2Lfxo8ha"
      },
      "outputs": [],
      "source": [
        "def say_hello():\n",
        "    print(\"Hello, world!\")"
      ]
    },
    {
      "cell_type": "code",
      "execution_count": null,
      "metadata": {
        "id": "lU7hAMVao8hb"
      },
      "outputs": [],
      "source": [
        "def greeting():\n",
        "  print(\"Hi, Welcome to Data Science class, week 4\")"
      ]
    },
    {
      "cell_type": "code",
      "execution_count": null,
      "metadata": {
        "id": "FMQ_ADhFo8hb"
      },
      "outputs": [],
      "source": [
        "greeting()"
      ]
    },
    {
      "cell_type": "code",
      "execution_count": null,
      "metadata": {
        "id": "qXjuWFvUo8hc"
      },
      "outputs": [],
      "source": []
    },
    {
      "cell_type": "code",
      "execution_count": null,
      "metadata": {
        "id": "yRmOXgB8o8hc"
      },
      "outputs": [],
      "source": [
        "# Call the function\n",
        "say_hello()"
      ]
    },
    {
      "cell_type": "markdown",
      "metadata": {
        "id": "KsEkhgLzo8hc"
      },
      "source": [
        "#### Function With Multiple Parameters\n",
        "\n",
        "You can also pass one or more than one argument to a function"
      ]
    },
    {
      "cell_type": "code",
      "execution_count": null,
      "metadata": {
        "id": "zZR8RRp8o8hd"
      },
      "outputs": [],
      "source": [
        "def add_numbers(a, b):\n",
        "    print(a + b)\n"
      ]
    },
    {
      "cell_type": "code",
      "execution_count": null,
      "metadata": {
        "id": "Le8mmuUqo8hd"
      },
      "outputs": [],
      "source": [
        "def Ibrahim_and_joy(Ibrahim_age, Joy_age):\n",
        "  print(Ibrahim_age +Joy_age)"
      ]
    },
    {
      "cell_type": "code",
      "execution_count": null,
      "metadata": {
        "id": "jqEcs1zoo8he"
      },
      "outputs": [],
      "source": [
        "Ibrahim_and_joy(22, 25)"
      ]
    },
    {
      "cell_type": "code",
      "execution_count": null,
      "metadata": {
        "id": "gcrrYZwEo8he"
      },
      "outputs": [],
      "source": [
        "# Calling the function\n",
        "add_numbers(5, 3)\n"
      ]
    },
    {
      "cell_type": "code",
      "execution_count": null,
      "metadata": {
        "id": "3jb3AbX8o8he"
      },
      "outputs": [],
      "source": [
        "# Calling the function\n",
        "result = add_numbers(5, 3)\n"
      ]
    },
    {
      "cell_type": "code",
      "execution_count": null,
      "metadata": {
        "id": "MelufLp2o8hf"
      },
      "outputs": [],
      "source": [
        "result = add_numbers(5, 3)\n",
        "print(result)"
      ]
    },
    {
      "cell_type": "markdown",
      "metadata": {
        "id": "IGhCwlE-o8hf"
      },
      "source": [
        "####  Function with a Return Statement\n",
        "\n",
        "You can use the `return` statement to get a value from a function"
      ]
    },
    {
      "cell_type": "code",
      "execution_count": null,
      "metadata": {
        "id": "YH821Jz0o8hf"
      },
      "outputs": [],
      "source": [
        "def add_numbers(a, b):\n",
        "    return a + b"
      ]
    },
    {
      "cell_type": "code",
      "execution_count": null,
      "metadata": {
        "id": "RBxhqOSuo8hg"
      },
      "outputs": [],
      "source": [
        "add_numbers(2,3)"
      ]
    },
    {
      "cell_type": "code",
      "execution_count": null,
      "metadata": {
        "id": "QFt_ElCUo8hg"
      },
      "outputs": [],
      "source": [
        "result = add_numbers(4)\n",
        "print(result)  # TypeError :because we used 1 arguments/parameters as input when we defined the function to take in just 2 parameters as input"
      ]
    },
    {
      "cell_type": "code",
      "execution_count": null,
      "metadata": {
        "id": "ItouUsgJo8hg"
      },
      "outputs": [],
      "source": [
        "result = add_numbers(2,3,4)\n",
        "print(result) # TypeError :because we used 3 arguments/parameters as input when we defined the function to take in just 2 parameters as input."
      ]
    },
    {
      "cell_type": "code",
      "execution_count": null,
      "metadata": {
        "id": "6xI6CrL4o8hg"
      },
      "outputs": [],
      "source": [
        "def square_number(x):\n",
        "    return x * x"
      ]
    },
    {
      "cell_type": "code",
      "execution_count": null,
      "metadata": {
        "id": "Uk0y2Sfio8hh"
      },
      "outputs": [],
      "source": [
        "result = square_number(4)\n",
        "print(result)  # Output: 16"
      ]
    },
    {
      "cell_type": "markdown",
      "metadata": {
        "id": "yC6mapwpo8hk"
      },
      "source": [
        "Variables outside the function have a global scope and can be accessed inside the function."
      ]
    },
    {
      "cell_type": "markdown",
      "metadata": {
        "id": "xPPsRPV8o8hl"
      },
      "source": [
        "#### Default Parameters\n",
        "\n",
        "You can set a default value for a function’s parameter, which will be used if no argument is provided."
      ]
    },
    {
      "cell_type": "code",
      "execution_count": null,
      "metadata": {
        "id": "k8ygTPKYo8hl"
      },
      "outputs": [],
      "source": [
        "def greet(name=\"stranger\"):\n",
        "    return (f\"Hello, {name}!\")"
      ]
    },
    {
      "cell_type": "markdown",
      "metadata": {
        "id": "MjiU1XwTo8hm"
      },
      "source": [
        "`name=\"stranger\"` – If no name is provided when calling the function, it uses \"stranger\" as the default value. Let us see this below"
      ]
    },
    {
      "cell_type": "code",
      "execution_count": null,
      "metadata": {
        "id": "TcThXGkJo8hm"
      },
      "outputs": [],
      "source": [
        "greet()"
      ]
    },
    {
      "cell_type": "code",
      "execution_count": null,
      "metadata": {
        "id": "M9IKMJ03o8hn"
      },
      "outputs": [],
      "source": [
        "greet(\"Chisom\")"
      ]
    },
    {
      "cell_type": "markdown",
      "metadata": {
        "id": "vmRVqn3Go8ho"
      },
      "source": [
        "#### Keyword Arguments\n",
        "\n",
        "You can specify arguments using their parameter names. This is essentially useful when a function has many parameters."
      ]
    },
    {
      "cell_type": "code",
      "execution_count": null,
      "metadata": {
        "id": "MpRjXqmso8ho"
      },
      "outputs": [],
      "source": [
        "def introduce(name, age, city):\n",
        "    print(f\"My name is {name}, I am {age} years old, and I live in {city}.\")"
      ]
    },
    {
      "cell_type": "code",
      "execution_count": null,
      "metadata": {
        "id": "-GgPdaPeo8hp"
      },
      "outputs": [],
      "source": [
        "introduce(age=25, name=\"Alice\", city=\"New York\")"
      ]
    },
    {
      "cell_type": "markdown",
      "metadata": {
        "id": "DL00ekXEo8hp"
      },
      "source": [
        "#### Lambda Functions\n",
        "A lambda function is a small anonymous function defined using the lambda keyword. It's often used for short, simple tasks.\n",
        "Let's see an example below"
      ]
    },
    {
      "cell_type": "code",
      "execution_count": null,
      "metadata": {
        "id": "AcnTrlV2o8hq"
      },
      "outputs": [],
      "source": [
        "# Lambda function to add two numbers\n",
        "add = lambda x, y: x + y"
      ]
    },
    {
      "cell_type": "markdown",
      "metadata": {
        "id": "d_Q9cJyKo8hq"
      },
      "source": [
        " - lambda - This is the keyword definition of the kind of function we are trying to describe, `lambda function`\n",
        " - x, y: This is the parameters/input the function takes in\n",
        " - x + y: This opertaion being carried out. i.e the output of the function.\n",
        "\n",
        " In general, `lambda x, y: x + y` creates an anonymous function that takes two arguments, x and y, and returns their sum."
      ]
    },
    {
      "cell_type": "code",
      "execution_count": null,
      "metadata": {
        "id": "l96MUlSYo8hq"
      },
      "outputs": [],
      "source": [
        "print(add(2, 3))"
      ]
    },
    {
      "cell_type": "markdown",
      "metadata": {
        "id": "NHBv8ILVo8hr"
      },
      "source": [
        "#### Scope of Variables in a Function\n",
        "\n",
        "Variables created inside a function are local to that function and can’t be accessed from outside. This is called local scope. Let's see an example"
      ]
    },
    {
      "cell_type": "code",
      "execution_count": null,
      "metadata": {
        "id": "ExBQKtIlo8hr"
      },
      "outputs": [],
      "source": [
        "def my_function():\n",
        "    x = 10\n",
        "    return x"
      ]
    },
    {
      "cell_type": "code",
      "execution_count": null,
      "metadata": {
        "id": "nMyI2E4eo8hr"
      },
      "outputs": [],
      "source": [
        "my_function()"
      ]
    },
    {
      "cell_type": "code",
      "execution_count": null,
      "metadata": {
        "id": "fWTMdEMpo8hs"
      },
      "outputs": [],
      "source": [
        "print(x)  # Error: NameError because 'x' is not defined outside the function"
      ]
    },
    {
      "cell_type": "code",
      "execution_count": null,
      "metadata": {
        "id": "iQVzjFQXo8hs"
      },
      "outputs": [],
      "source": [
        "x = 5  # Global variable"
      ]
    },
    {
      "cell_type": "code",
      "execution_count": null,
      "metadata": {
        "id": "fkpue378o8hs"
      },
      "outputs": [],
      "source": [
        "def print_number():\n",
        "    print(x)"
      ]
    },
    {
      "cell_type": "code",
      "execution_count": null,
      "metadata": {
        "id": "_jDMgYS5o8ht"
      },
      "outputs": [],
      "source": [
        "print_number()  # Output: 5"
      ]
    },
    {
      "cell_type": "markdown",
      "metadata": {
        "id": "1wEBmLw3o8ht"
      },
      "source": [
        "### CLASS TASK\n",
        "\n",
        "- Write a function 'multiply', that takes two numbers as input and returns their product.\n",
        "- Write a function 'is_even', that takes a number and returns True if it's even, and False otherwise.\n",
        "- Write a function that prints your name 5 times using a loop inside the function.\n"
      ]
    },
    {
      "cell_type": "code",
      "execution_count": null,
      "metadata": {
        "id": "Y-LB6v3to8ht"
      },
      "outputs": [],
      "source": []
    },
    {
      "cell_type": "code",
      "execution_count": null,
      "metadata": {
        "id": "IotvtUYQo8hu"
      },
      "outputs": [],
      "source": []
    },
    {
      "cell_type": "markdown",
      "metadata": {
        "id": "_GVfnvhLo_BL"
      },
      "source": []
    },
    {
      "cell_type": "markdown",
      "metadata": {
        "id": "yGRkOJWho_BM"
      },
      "source": [
        "### Week3_class1"
      ]
    },
    {
      "cell_type": "code",
      "execution_count": null,
      "metadata": {
        "colab": {
          "base_uri": "https://localhost:8080/",
          "height": 53
        },
        "outputId": "c3bbc5dc-b152-44eb-ec41-6e03c428bfab",
        "id": "CBINIuQlo_BN"
      },
      "outputs": [
        {
          "output_type": "execute_result",
          "data": {
            "text/plain": [
              "'In Python, a set is an unordered collection of unique elements.You can create a set by enclosing comma-separated elements within curly braces {} or by using the set() constructor. They are mutable but each element is unique, hence it contains no duplicates.'"
            ],
            "application/vnd.google.colaboratory.intrinsic+json": {
              "type": "string"
            }
          },
          "metadata": {},
          "execution_count": 242
        }
      ],
      "source": [
        "#...............Sets and how to manipulate sets.........................#\n",
        "'''In Python, a set is an unordered collection of unique elements.You can create a set by enclosing comma-separated elements within curly braces {} or by using the set() constructor. They are mutable but each element is unique, hence it contains no duplicates.'''"
      ]
    },
    {
      "cell_type": "code",
      "execution_count": null,
      "metadata": {
        "colab": {
          "base_uri": "https://localhost:8080/"
        },
        "outputId": "b9fe3503-40c3-4a46-ced6-4a3aa9587837",
        "id": "D6RUz2E5o_BP"
      },
      "outputs": [
        {
          "output_type": "stream",
          "name": "stdout",
          "text": [
            "{1, 2, 3, 4, 5}\n"
          ]
        }
      ],
      "source": [
        "# lets create a set\n",
        "my_set = {1,2,3,4,5}\n",
        "print(my_set)"
      ]
    },
    {
      "cell_type": "code",
      "execution_count": null,
      "metadata": {
        "colab": {
          "base_uri": "https://localhost:8080/"
        },
        "outputId": "3823e394-3a20-4d71-bf82-22077df68bef",
        "id": "XQm-zo-no_BU"
      },
      "outputs": [
        {
          "output_type": "execute_result",
          "data": {
            "text/plain": [
              "set"
            ]
          },
          "metadata": {},
          "execution_count": 244
        }
      ],
      "source": [
        "# lets check the type\n",
        "type(my_set)"
      ]
    },
    {
      "cell_type": "code",
      "execution_count": null,
      "metadata": {
        "colab": {
          "base_uri": "https://localhost:8080/"
        },
        "outputId": "83909668-83ae-4a11-f25f-57b190ebd255",
        "id": "hlf6npHMo_BV"
      },
      "outputs": [
        {
          "output_type": "stream",
          "name": "stdout",
          "text": [
            "1\n",
            "2\n",
            "3\n",
            "4\n",
            "5\n"
          ]
        }
      ],
      "source": [
        "# lets iterate through the set\n",
        "for item in my_set:\n",
        "  print(item)"
      ]
    },
    {
      "cell_type": "code",
      "execution_count": null,
      "metadata": {
        "id": "Jh3TIfhuo_BW"
      },
      "outputs": [],
      "source": [
        "# lets add an element to our set...Hint: Using the add()function\n",
        "my_set.add(6)"
      ]
    },
    {
      "cell_type": "code",
      "execution_count": null,
      "metadata": {
        "id": "rPb9m6Ato_BX"
      },
      "outputs": [],
      "source": [
        "# lets remove the first element, which is 1\n",
        "my_set.remove(1) # disadevange of using .remove() function, if its not in the set, it will throw error message\n"
      ]
    },
    {
      "cell_type": "code",
      "execution_count": null,
      "metadata": {
        "colab": {
          "base_uri": "https://localhost:8080/"
        },
        "outputId": "143f404b-f5d2-47fe-f758-44e3eaa66a07",
        "id": "_QTEemWXo_BY"
      },
      "outputs": [
        {
          "output_type": "stream",
          "name": "stdout",
          "text": [
            "{3, 4, 5, 6}\n"
          ]
        }
      ],
      "source": [
        "# We can better use .discard() to remove elements\n",
        "my_set.discard(2)\n",
        "print(my_set)"
      ]
    },
    {
      "cell_type": "code",
      "execution_count": null,
      "metadata": {
        "colab": {
          "base_uri": "https://localhost:8080/"
        },
        "outputId": "08585df3-be85-42b5-fab1-0fd95bd567ba",
        "id": "LxckweK-o_BZ"
      },
      "outputs": [
        {
          "output_type": "stream",
          "name": "stdout",
          "text": [
            "{1, 2, 3, 4, 5, 6, 7, 8}\n"
          ]
        }
      ],
      "source": [
        "# lets combine two sets. Hint: use a union() function\n",
        "set1 = {1,2,3,4,5}\n",
        "set2 = {4,5,6,7,8}\n",
        "combined_set = set1.union(set2)\n",
        "print(combined_set)"
      ]
    },
    {
      "cell_type": "code",
      "execution_count": null,
      "metadata": {
        "colab": {
          "base_uri": "https://localhost:8080/"
        },
        "outputId": "0d67ff2f-f0d9-42bd-bed1-81a4e6f6db77",
        "id": "xUlK7hhco_Ba"
      },
      "outputs": [
        {
          "output_type": "stream",
          "name": "stdout",
          "text": [
            "{4, 5}\n"
          ]
        }
      ],
      "source": [
        "# lets chech the elements that are the same in two sets or unique to the two sets. Hint: use .intersection()\n",
        "set1 = {1,2,3,4,5}\n",
        "set2 = {4,5,6,7,8}\n",
        "intersection_set = set1.intersection(set2)\n",
        "print(intersection_set)"
      ]
    },
    {
      "cell_type": "markdown",
      "metadata": {
        "id": "2KmlbJBAo_Bb"
      },
      "source": [
        "Assignment:\n",
        "1. Do a study on set data structure, find out about a. difference, b.issubset, c.issuperset."
      ]
    },
    {
      "cell_type": "markdown",
      "metadata": {
        "id": "DA9FuoWFo_Bc"
      },
      "source": [
        "**Mini Project:**\n",
        "1. Create an email splitter.\n",
        "* Create a script that will take your email address as an input. Then use the dot split() method to split the email into username and domain name.\n",
        "\n",
        "2. Create an ID or MatricNo splitter.\n",
        "* Create a script that will take in your FellowID as an input. Then use the dot split() method to split your fellowID into 3 (fellow, year and ID)\n",
        "\n",
        "3. Create a character, word and sentence counter.\n",
        "* Create a script that will take in a word or sentence. Then use the dot split(), dot count() and dot len() methods to build your logic.\n"
      ]
    },
    {
      "cell_type": "markdown",
      "metadata": {
        "id": "VsV9A3Buo_Bd"
      },
      "source": [
        "[link to attendance](https://forms.gle/5biBEB3z1yKE6TmCA)"
      ]
    },
    {
      "cell_type": "code",
      "execution_count": null,
      "metadata": {
        "id": "O9l5RhKao_Be"
      },
      "outputs": [],
      "source": []
    },
    {
      "cell_type": "markdown",
      "metadata": {
        "id": "JKo64ztHo_Bf"
      },
      "source": [
        "### Control Statement"
      ]
    },
    {
      "cell_type": "markdown",
      "metadata": {
        "id": "d4rQGDWio_Bf"
      },
      "source": [
        "Control statements are like the instructions that tell your program what to do next based on different situations. They are also used to alter the flow of a program based on certain conditions. The most common control statement is the if statement, which helps us make decisions in our code.\n",
        "\n",
        "We have different type of control statements;\n",
        "####  Conditional Statements\n",
        "- `if` statement\n",
        "\n",
        "- `if-else` statement\n",
        "\n",
        "- `if-elif-else` statement\n",
        "\n",
        "####  Looping Statements\n",
        "\n",
        "- `for` loop\n",
        "\n",
        "- `while` loop\n",
        "\n",
        "####  Control Flow Alteration Statements\n",
        "\n",
        "- `break` statement\n",
        "\n",
        "- `continue` statement\n",
        "\n",
        "- `pass` statement"
      ]
    },
    {
      "cell_type": "markdown",
      "metadata": {
        "id": "V9YgtoIMo_Bg"
      },
      "source": [
        "#### Conditional Statement"
      ]
    },
    {
      "cell_type": "code",
      "execution_count": null,
      "metadata": {
        "colab": {
          "base_uri": "https://localhost:8080/",
          "height": 383
        },
        "outputId": "57b9794c-48bf-4c41-ebd2-0fea93c01756",
        "id": "843r-1Zxo_Bh"
      },
      "outputs": [
        {
          "output_type": "execute_result",
          "data": {
            "image/gif": "[encoded data removed]",
            "text/plain": [
              "<IPython.core.display.Image object>"
            ]
          },
          "metadata": {},
          "execution_count": 261
        }
      ],
      "source": [
        "#..................Conditional Statements......................................#\n",
        "Image(\"/content/drive/MyDrive/3MTT Data Science/Instructors' Notebook/conditional.gif\")"
      ]
    },
    {
      "cell_type": "markdown",
      "metadata": {
        "id": "feRyfzk6o_Bi"
      },
      "source": [
        "\n",
        "`IF` Statement\n",
        "\n",
        "What is an if statement?\n",
        "An if statement allows you to run certain code only if a condition is True. If the condition is False, the code inside the if block will not run."
      ]
    },
    {
      "cell_type": "markdown",
      "metadata": {
        "id": "yMbjIKAZo_Bj"
      },
      "source": [
        "Let us see the Syntax of an if Statement"
      ]
    },
    {
      "cell_type": "code",
      "execution_count": null,
      "metadata": {
        "id": "-qSVKpJQo_Bk"
      },
      "outputs": [],
      "source": [
        "#if {condition}:\n",
        "#  {\"do somthing\"}\n",
        "    # code to run if condition is True"
      ]
    },
    {
      "cell_type": "markdown",
      "metadata": {
        "id": "v0oU6jego_Bk"
      },
      "source": [
        "- condition: This is a test expression that evaluates to either True or False.\n",
        "- :(colon) : Marks the start of the indented block of code.\n",
        "- Indentation: The code inside the if block must be indented (usually 4 spaces)."
      ]
    },
    {
      "cell_type": "code",
      "execution_count": null,
      "metadata": {
        "id": "78Dfml33o_Bl"
      },
      "outputs": [],
      "source": [
        "# Let's see an example of a basic 'if' statement using the input input...\n",
        "age = int(input(\"please, enter your age: \"))\n",
        "\n",
        "if age <= 12:\n",
        "    print(\"You are a child.\")"
      ]
    },
    {
      "cell_type": "code",
      "execution_count": null,
      "metadata": {
        "id": "PN7ZqByWo_Bm"
      },
      "outputs": [],
      "source": [
        "# LEts see an example of \"if else\" statement using  input function...\n",
        "age = int(input(\"Enter your age: \"))\n",
        "\n",
        "if age <= 12:\n",
        "  print(\"You are a child.\")\n",
        "else:\n",
        "  print(\"You are a teenager.\")"
      ]
    },
    {
      "cell_type": "code",
      "execution_count": null,
      "metadata": {
        "id": "BD51lMw3o_Bn"
      },
      "outputs": [],
      "source": [
        "# Lets see an example of a basic \"if elif else\" statement.\n",
        "age = int(input(\"Enter your age: \"))\n",
        "\n",
        "if age <= 12:\n",
        "  print(\"You are a child.\")\n",
        "elif age <= 19:\n",
        "  print(\"You are a teenager.\")\n",
        "else:\n",
        "  print(\"You are a young adult.\")"
      ]
    },
    {
      "cell_type": "code",
      "execution_count": null,
      "metadata": {
        "id": "KKHFp_Zco_Bn"
      },
      "outputs": [],
      "source": [
        "# Lets use \"more than one elif\" statement...\n",
        "age = int(input(\"Enter your age: \"))\n",
        "\n",
        "if age <= 12:\n",
        "  print(\"You are a child.\")\n",
        "elif age <= 19:\n",
        "  print(\"You are a teenager.\")\n",
        "elif age <= 35:\n",
        "  print(\"You are a young adult.\")\n",
        "else:\n",
        "  print(\"You are an adult.\")"
      ]
    },
    {
      "cell_type": "code",
      "execution_count": null,
      "metadata": {
        "id": "-IBDQ0y6o_Bo"
      },
      "outputs": [],
      "source": [
        "# lets use \"multiple elif \" statement...\n",
        "age = int(input(\"Enter your age: \"))\n",
        "\n",
        "if age <= 12:\n",
        "  print(\"You are a child.\")\n",
        "elif age <= 19:\n",
        "  print(\"You are a teenager.\")\n",
        "elif age <= 35:\n",
        "  print(\"You are a young adult.\")\n",
        "elif age <= 65:\n",
        "  print(\"You are an adult.\")\n",
        "else:\n",
        "  print(\"You are a senior citizen.\")"
      ]
    },
    {
      "cell_type": "markdown",
      "metadata": {
        "id": "g74v1G_ao_Bo"
      },
      "source": [
        "[Kindly sign your attendance here](https://forms.gle/shfw5Ax1PiyV9zd79)"
      ]
    },
    {
      "cell_type": "markdown",
      "metadata": {
        "id": "DdRhv50do_Bp"
      },
      "source": [
        "### Mini Project 2\n",
        "1. Take students score as an input.The score should be an integer between 0 and 100.\n",
        "2. Calcuate the corresponding letter grade based on the following scale:\n",
        "* A : 80 - 100\n",
        "* B : 70 - 79\n",
        "* C : 50 - 69\n",
        "* D : 45 - 49\n",
        "* F : Below 44\n",
        "3. It should be able to print out the grades when a score is entered."
      ]
    },
    {
      "cell_type": "code",
      "execution_count": null,
      "metadata": {
        "id": "Pt-XLv-Ao_Bp"
      },
      "outputs": [],
      "source": [
        "#mini project 2\n",
        "student_score = int(input ('your score:'))"
      ]
    },
    {
      "cell_type": "code",
      "execution_count": null,
      "metadata": {
        "id": "M0nH58Vno_Bp"
      },
      "outputs": [],
      "source": []
    },
    {
      "cell_type": "markdown",
      "metadata": {
        "id": "FQo5Os11o_Bq"
      },
      "source": [
        "**Nested if and if-else statements**\n",
        "* Are conditional statements within other conditional statements. They allow you to create more complex decision-making structures in your code.\n",
        "\n",
        "\n",
        "**Nested if**\n",
        "* You can have an if statement inside another if statement. The inner if statement will only be executed if the outer if statement's condition is true.\n",
        "\n",
        "**Nested if-else**\n",
        "* You can have an if-else statement inside another if or if-else statement. This allows you to handle multiple conditions and outcomes in a hierarchical manner, that is, following hierarchies."
      ]
    },
    {
      "cell_type": "code",
      "execution_count": null,
      "metadata": {
        "id": "zVBy6fpho_Br"
      },
      "outputs": [],
      "source": []
    },
    {
      "cell_type": "code",
      "execution_count": null,
      "metadata": {
        "id": "INnRxnkCo_Br"
      },
      "outputs": [],
      "source": [
        "#..............................Nested if............................#\n",
        "if condition1:\n",
        "        # code to execute if condition1 is true\n",
        "        if condition2:\n",
        "            # code to execute if condition1 and condition2 are true"
      ]
    },
    {
      "cell_type": "code",
      "execution_count": null,
      "metadata": {
        "id": "DryRbkKqo_Bs"
      },
      "outputs": [],
      "source": [
        "# LEts check if input is a positive number and even number\n",
        "num = int(input(\"Enter a number: \"))\n",
        "\n",
        "if num > 0:\n",
        "  print(\"The number is positive.\")\n",
        "  if num % 2 == 0:\n",
        "    print(\"The number is even.\")"
      ]
    },
    {
      "cell_type": "code",
      "execution_count": null,
      "metadata": {
        "id": "B_JxTZwWo_Bt"
      },
      "outputs": [],
      "source": [
        "#..................................Nested if else................................#\n",
        "if condition1:\n",
        "        # code to execute if condition1 is true\n",
        "        if condition2:\n",
        "            # code to execute if condition1 and condition2 are true\n",
        "        else:\n",
        "            # code to execute if condition1 is true and condition2 is false\n",
        "    else:\n",
        "        # code to execute if condition1 is false"
      ]
    },
    {
      "cell_type": "code",
      "execution_count": null,
      "metadata": {
        "id": "yzXeCl9Qo_Bu"
      },
      "outputs": [],
      "source": [
        "# Lets work on eligibility of who can join the military\n",
        "\n",
        "age = int(input(\"Enter your age: \"))\n",
        "\n",
        "height = int(input(\"Enter your height in centimeters: \"))\n",
        "\n",
        "if age >= 18:\n",
        "    if height >= 170:\n",
        "        print(\"You are eligible to join the army.\")\n",
        "    else:\n",
        "        print(\"You are not tall enough to join the army.\")\n",
        "else:\n",
        "    print(\"You are too young to join the army.\")"
      ]
    },
    {
      "cell_type": "markdown",
      "metadata": {
        "id": "mzVMPwqRo_Bu"
      },
      "source": [
        "### Functions\n",
        "In programming, a function is like a mini-program within a larger program. It helps you group a set of tasks that need to be performed multiple times. You can think of a function like a recipe: just like you follow specific steps to make a meal, in programming, a function follows a set of instructions to achieve a task.\n",
        "\n",
        "\n",
        "Think of a coffee machine as a function in real life. You press a button (provide inputs like 'Cappuccino' or 'Latte'), and the coffee machine processes your input and gives you a coffee (the output). Inside the machine, there are steps, like heating water and mixing coffee, which are hidden from you but executed to give the final result.\n",
        "\n",
        "\n",
        "In this analogy:\n",
        "\n",
        "- Input: The type of coffee (Cappuccino, Latte)\n",
        "- Process: The steps to make coffee (heating, mixing)\n",
        "- Output: Your coffee!\n",
        "In Python, functions work in a similar way."
      ]
    },
    {
      "cell_type": "code",
      "execution_count": null,
      "metadata": {
        "id": "VDnVIzY9o_Bv"
      },
      "outputs": [],
      "source": [
        "Image(\"/content/drive/MyDrive/3MTT Data Science/Instructors' Notebook/download (3).png\")"
      ]
    },
    {
      "cell_type": "markdown",
      "metadata": {
        "id": "UZSyN88co_Bz"
      },
      "source": [
        "#### Anatomy of a Function\n"
      ]
    },
    {
      "cell_type": "code",
      "execution_count": null,
      "metadata": {
        "id": "lBKMTf9to_B0"
      },
      "outputs": [],
      "source": [
        "def function_name(parameters):\n",
        "\n",
        "    # Function body\n",
        "    # Perform tasks here\n",
        "    return result  # Optional: returns a value\n"
      ]
    },
    {
      "cell_type": "markdown",
      "metadata": {
        "id": "R0RqtQldo_B0"
      },
      "source": [
        "\n",
        "Let's break down a typical function. A function is made up of the following:\n",
        "\n",
        "- The definition: A function is defined using the `def` keyword\n",
        "- Function name: A descriptive name to identify the function.\n",
        "- Parameters: Inputs to the function (optional). This is an argument that the user will need to input when using the function\n",
        "- Function body: The code inside the function that performs a specific task.\n",
        "- Return: Optional. The `return` keyword gives back a result when the function is called."
      ]
    },
    {
      "cell_type": "markdown",
      "metadata": {
        "id": "sfU81mzPo_B1"
      },
      "source": [
        "#### Why Use Functions?\n",
        "\n",
        "Functions allow you to:\n",
        "\n",
        "- Organize code: Breaking down tasks into smaller chunks makes your code easier to read.\n",
        "- Reuse code: Once you write a function, you can use it multiple times without rewriting the same code.\n",
        "- Simplify debugging: Since functions are self-contained, it's easier to debug small pieces of code rather than the whole program."
      ]
    },
    {
      "cell_type": "markdown",
      "metadata": {
        "id": "fHXwphYqo_B1"
      },
      "source": [
        "#### Defining a function\n",
        "In Python, you define a function using the def keyword. Let’s write a simple function that greets someone:"
      ]
    },
    {
      "cell_type": "code",
      "execution_count": null,
      "metadata": {
        "id": "KK1No-cEo_B2"
      },
      "outputs": [],
      "source": [
        "# Defining a function\n",
        "def greet(name):\n",
        "    # This function prints a greeting message\n",
        "    print(f\"Hello, {name}! Welcome to the Python class.\")\n"
      ]
    },
    {
      "cell_type": "code",
      "execution_count": null,
      "metadata": {
        "id": "2tByuSvYo_B2"
      },
      "outputs": [],
      "source": [
        "def greet_us(name):\n",
        "  print(f\"Hi, {name}, welcome to Data Science class, week 4\")"
      ]
    },
    {
      "cell_type": "code",
      "execution_count": null,
      "metadata": {
        "id": "hKs6Z8Rvo_B3"
      },
      "outputs": [],
      "source": [
        "greet_us(\"Agu Joy\")"
      ]
    },
    {
      "cell_type": "code",
      "execution_count": null,
      "metadata": {
        "id": "VIvicqmto_B3"
      },
      "outputs": [],
      "source": [
        "# Calling the function\n",
        "greet(\"Alice\")"
      ]
    },
    {
      "cell_type": "markdown",
      "metadata": {
        "id": "EbrzZDgio_B4"
      },
      "source": [
        "#### Function Without Parameters:\n",
        "\n",
        "Sometimes, we can define a function that doesn’t need any input. Here's an example:"
      ]
    },
    {
      "cell_type": "code",
      "execution_count": null,
      "metadata": {
        "id": "FwYS5pCno_B4"
      },
      "outputs": [],
      "source": [
        "def say_hello():\n",
        "    print(\"Hello, world!\")"
      ]
    },
    {
      "cell_type": "code",
      "execution_count": null,
      "metadata": {
        "id": "j4e5hQVIo_B4"
      },
      "outputs": [],
      "source": [
        "def greeting():\n",
        "  print(\"Hi, Welcome to Data Science class, week 4\")"
      ]
    },
    {
      "cell_type": "code",
      "execution_count": null,
      "metadata": {
        "id": "jquCqUObo_B5"
      },
      "outputs": [],
      "source": [
        "greeting()"
      ]
    },
    {
      "cell_type": "code",
      "execution_count": null,
      "metadata": {
        "id": "RSdEYrruo_B6"
      },
      "outputs": [],
      "source": []
    },
    {
      "cell_type": "code",
      "execution_count": null,
      "metadata": {
        "id": "0WeRbt4no_B6"
      },
      "outputs": [],
      "source": [
        "# Call the function\n",
        "say_hello()"
      ]
    },
    {
      "cell_type": "markdown",
      "metadata": {
        "id": "-YwjiPWMo_B7"
      },
      "source": [
        "#### Function With Multiple Parameters\n",
        "\n",
        "You can also pass one or more than one argument to a function"
      ]
    },
    {
      "cell_type": "code",
      "execution_count": null,
      "metadata": {
        "id": "J5bKxYGoo_B7"
      },
      "outputs": [],
      "source": [
        "def add_numbers(a, b):\n",
        "    print(a + b)\n"
      ]
    },
    {
      "cell_type": "code",
      "execution_count": null,
      "metadata": {
        "id": "BMm6EZlpo_B8"
      },
      "outputs": [],
      "source": [
        "def Ibrahim_and_joy(Ibrahim_age, Joy_age):\n",
        "  print(Ibrahim_age +Joy_age)"
      ]
    },
    {
      "cell_type": "code",
      "execution_count": null,
      "metadata": {
        "id": "ua1-rZ-xo_B9"
      },
      "outputs": [],
      "source": [
        "Ibrahim_and_joy(22, 25)"
      ]
    },
    {
      "cell_type": "code",
      "execution_count": null,
      "metadata": {
        "id": "VSKM4BUOo_B9"
      },
      "outputs": [],
      "source": [
        "# Calling the function\n",
        "add_numbers(5, 3)\n"
      ]
    },
    {
      "cell_type": "code",
      "execution_count": null,
      "metadata": {
        "id": "krPPOiWco_B-"
      },
      "outputs": [],
      "source": [
        "# Calling the function\n",
        "result = add_numbers(5, 3)\n"
      ]
    },
    {
      "cell_type": "code",
      "execution_count": null,
      "metadata": {
        "id": "vx3llH2Ao_B-"
      },
      "outputs": [],
      "source": [
        "result = add_numbers(5, 3)\n",
        "print(result)"
      ]
    },
    {
      "cell_type": "markdown",
      "metadata": {
        "id": "H57Bupv5o_B_"
      },
      "source": [
        "####  Function with a Return Statement\n",
        "\n",
        "You can use the `return` statement to get a value from a function"
      ]
    },
    {
      "cell_type": "code",
      "execution_count": null,
      "metadata": {
        "id": "8MwpylkDo_B_"
      },
      "outputs": [],
      "source": [
        "def add_numbers(a, b):\n",
        "    return a + b"
      ]
    },
    {
      "cell_type": "code",
      "execution_count": null,
      "metadata": {
        "id": "yLypYlKpo_B_"
      },
      "outputs": [],
      "source": [
        "add_numbers(2,3)"
      ]
    },
    {
      "cell_type": "code",
      "execution_count": null,
      "metadata": {
        "id": "H-bpQUfxo_CA"
      },
      "outputs": [],
      "source": [
        "result = add_numbers(4)\n",
        "print(result)  # TypeError :because we used 1 arguments/parameters as input when we defined the function to take in just 2 parameters as input"
      ]
    },
    {
      "cell_type": "code",
      "execution_count": null,
      "metadata": {
        "id": "CN_tQz2ro_CB"
      },
      "outputs": [],
      "source": [
        "result = add_numbers(2,3,4)\n",
        "print(result) # TypeError :because we used 3 arguments/parameters as input when we defined the function to take in just 2 parameters as input."
      ]
    },
    {
      "cell_type": "code",
      "execution_count": null,
      "metadata": {
        "id": "W3xdBH52o_CC"
      },
      "outputs": [],
      "source": [
        "def square_number(x):\n",
        "    return x * x"
      ]
    },
    {
      "cell_type": "code",
      "execution_count": null,
      "metadata": {
        "id": "aacsmA-2o_CC"
      },
      "outputs": [],
      "source": [
        "result = square_number(4)\n",
        "print(result)  # Output: 16"
      ]
    },
    {
      "cell_type": "markdown",
      "metadata": {
        "id": "Z71Zthilo_CD"
      },
      "source": [
        "Variables outside the function have a global scope and can be accessed inside the function."
      ]
    },
    {
      "cell_type": "markdown",
      "metadata": {
        "id": "TDXrbQ1do_CD"
      },
      "source": [
        "#### Default Parameters\n",
        "\n",
        "You can set a default value for a function’s parameter, which will be used if no argument is provided."
      ]
    },
    {
      "cell_type": "code",
      "execution_count": null,
      "metadata": {
        "id": "zafQFJ9To_CE"
      },
      "outputs": [],
      "source": [
        "def greet(name=\"stranger\"):\n",
        "    return (f\"Hello, {name}!\")"
      ]
    },
    {
      "cell_type": "markdown",
      "metadata": {
        "id": "aiqfY_j-o_CE"
      },
      "source": [
        "`name=\"stranger\"` – If no name is provided when calling the function, it uses \"stranger\" as the default value. Let us see this below"
      ]
    },
    {
      "cell_type": "code",
      "execution_count": null,
      "metadata": {
        "id": "YOdhIIwco_CF"
      },
      "outputs": [],
      "source": [
        "greet()"
      ]
    },
    {
      "cell_type": "code",
      "execution_count": null,
      "metadata": {
        "id": "l-1AQOvwo_CF"
      },
      "outputs": [],
      "source": [
        "greet(\"Chisom\")"
      ]
    },
    {
      "cell_type": "markdown",
      "metadata": {
        "id": "lAUznMCZo_CF"
      },
      "source": [
        "#### Keyword Arguments\n",
        "\n",
        "You can specify arguments using their parameter names. This is essentially useful when a function has many parameters."
      ]
    },
    {
      "cell_type": "code",
      "execution_count": null,
      "metadata": {
        "id": "3hNgwE__o_CG"
      },
      "outputs": [],
      "source": [
        "def introduce(name, age, city):\n",
        "    print(f\"My name is {name}, I am {age} years old, and I live in {city}.\")"
      ]
    },
    {
      "cell_type": "code",
      "execution_count": null,
      "metadata": {
        "id": "DH9GqtxBo_CG"
      },
      "outputs": [],
      "source": [
        "introduce(age=25, name=\"Alice\", city=\"New York\")"
      ]
    },
    {
      "cell_type": "markdown",
      "metadata": {
        "id": "-sUidVSRo_CG"
      },
      "source": [
        "#### Lambda Functions\n",
        "A lambda function is a small anonymous function defined using the lambda keyword. It's often used for short, simple tasks.\n",
        "Let's see an example below"
      ]
    },
    {
      "cell_type": "code",
      "execution_count": null,
      "metadata": {
        "id": "3JfYqRQro_CH"
      },
      "outputs": [],
      "source": [
        "# Lambda function to add two numbers\n",
        "add = lambda x, y: x + y"
      ]
    },
    {
      "cell_type": "markdown",
      "metadata": {
        "id": "GBx0ltDeo_CH"
      },
      "source": [
        " - lambda - This is the keyword definition of the kind of function we are trying to describe, `lambda function`\n",
        " - x, y: This is the parameters/input the function takes in\n",
        " - x + y: This opertaion being carried out. i.e the output of the function.\n",
        "\n",
        " In general, `lambda x, y: x + y` creates an anonymous function that takes two arguments, x and y, and returns their sum."
      ]
    },
    {
      "cell_type": "code",
      "execution_count": null,
      "metadata": {
        "id": "P3H3je7Ho_CH"
      },
      "outputs": [],
      "source": [
        "print(add(2, 3))"
      ]
    },
    {
      "cell_type": "markdown",
      "metadata": {
        "id": "iOYY290ho_CH"
      },
      "source": [
        "#### Scope of Variables in a Function\n",
        "\n",
        "Variables created inside a function are local to that function and can’t be accessed from outside. This is called local scope. Let's see an example"
      ]
    },
    {
      "cell_type": "code",
      "execution_count": null,
      "metadata": {
        "id": "yUVR8s9ao_CI"
      },
      "outputs": [],
      "source": [
        "def my_function():\n",
        "    x = 10\n",
        "    return x"
      ]
    },
    {
      "cell_type": "code",
      "execution_count": null,
      "metadata": {
        "id": "t5zeaOjZo_CI"
      },
      "outputs": [],
      "source": [
        "my_function()"
      ]
    },
    {
      "cell_type": "code",
      "execution_count": null,
      "metadata": {
        "id": "uJ7ijW4Io_CI"
      },
      "outputs": [],
      "source": [
        "print(x)  # Error: NameError because 'x' is not defined outside the function"
      ]
    },
    {
      "cell_type": "code",
      "execution_count": null,
      "metadata": {
        "id": "uGR5bNvUo_CJ"
      },
      "outputs": [],
      "source": [
        "x = 5  # Global variable"
      ]
    },
    {
      "cell_type": "code",
      "execution_count": null,
      "metadata": {
        "id": "kTsEXYzdo_CJ"
      },
      "outputs": [],
      "source": [
        "def print_number():\n",
        "    print(x)"
      ]
    },
    {
      "cell_type": "code",
      "execution_count": null,
      "metadata": {
        "id": "EHy4yR6ko_CJ"
      },
      "outputs": [],
      "source": [
        "print_number()  # Output: 5"
      ]
    },
    {
      "cell_type": "markdown",
      "metadata": {
        "id": "YKz-ltNao_CK"
      },
      "source": [
        "### CLASS TASK\n",
        "\n",
        "- Write a function 'multiply', that takes two numbers as input and returns their product.\n",
        "- Write a function 'is_even', that takes a number and returns True if it's even, and False otherwise.\n",
        "- Write a function that prints your name 5 times using a loop inside the function.\n"
      ]
    },
    {
      "cell_type": "code",
      "execution_count": null,
      "metadata": {
        "id": "LvAxWqK6o_CK"
      },
      "outputs": [],
      "source": []
    },
    {
      "cell_type": "code",
      "execution_count": null,
      "metadata": {
        "id": "8G4KYhE3o_CL"
      },
      "outputs": [],
      "source": []
    }
  ]
}