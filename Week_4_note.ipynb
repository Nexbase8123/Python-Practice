{
  "nbformat": 4,
  "nbformat_minor": 0,
  "metadata": {
    "colab": {
      "provenance": [],
      "authorship_tag": "ABX9TyNnIPLUCf9F6tWG1Mlhxj/e",
      "include_colab_link": true
    },
    "kernelspec": {
      "name": "python3",
      "display_name": "Python 3"
    },
    "language_info": {
      "name": "python"
    }
  },
  "cells": [
    {
      "cell_type": "markdown",
      "metadata": {
        "id": "view-in-github",
        "colab_type": "text"
      },
      "source": [
        "<a href=\"https://colab.research.google.com/github/Nexbase8123/Python-Practice/blob/main/Week_4_note.ipynb\" target=\"_parent\"><img src=\"https://colab.research.google.com/assets/colab-badge.svg\" alt=\"Open In Colab\"/></a>"
      ]
    },
    {
      "cell_type": "code",
      "execution_count": null,
      "metadata": {
        "id": "zYzAZN01qk8a"
      },
      "outputs": [],
      "source": []
    },
    {
      "cell_type": "markdown",
      "metadata": {
        "id": "z8yBtrA-IMln"
      },
      "source": [
        "### Week4_Class4\n",
        "## Introduction To Data Analysis\n",
        "1. Types of data\n",
        "\n",
        "* ![dataty.jpg](https://miro.medium.com/v2/resize:fit:720/format:webp/1*FX6fZHoefiEhsIlc8bwjwQ.jpeg)\n",
        "\n",
        "\n",
        "2. Importing python packages\n",
        "  * Direct import\n",
        "\n",
        "```\n",
        "import math\n",
        "```\n",
        "\n",
        "  * Import Specific Attributes\n",
        "\n",
        "```\n",
        "from math import pi, sqrt\n",
        "```\n",
        "  * Import Module with an Alias\n",
        "\n",
        "```\n",
        "import math as mt\n",
        "```\n",
        "  * Import All functions/ Attributes\n",
        "\n",
        "\n",
        "```\n",
        "from math import *\n",
        "```\n",
        "\n",
        "\n",
        "* To gain more understanding on importing python modules\n",
        " * [Click here to read an article](https://www.datacamp.com/tutorial/modules-in-python)\n",
        "\n",
        " * or  [here to watch a video](https://www.youtube.com/watch?v=uTc39ZXStP0)\n",
        "\n",
        "\n",
        "3. Introduction to pandas\n",
        "#### Data Manipulation Functions in Pandas\n",
        "\n",
        "* read_csv(): Reads data from a CSV file into a DataFrame.\n",
        "* head(): Returns the first few rows of a DataFrame.\n",
        "* tail(): Returns the last few rows of a DataFrame.\n",
        "* describe(): Provides summary statistics for a DataFrame.\n",
        "* info(): Provides information about a DataFrame's columns and data types.\n",
        "* shape: Returns the dimensions of a DataFrame.\n",
        "* loc: Access data by row and column labels.\n",
        "* iloc: Access data by integer index.\n",
        "* fillna(): Fills missing values.\n",
        "* dropna(): Drops missing values.\n",
        "* groupby(): Groups data by one or more columns and applies functions to each group.\n",
        "* merge(): Merges two DataFrames based on common columns.\n",
        "* concat(): Concatenates DataFrames along a specified axis.\n",
        "### Data Cleaning and Preparation in Pandas\n",
        "\n",
        "* drop_duplicates(): Removes duplicate rows.\n",
        "* rename(): Renames columns or indexes.\n",
        "* astype(): Converts data types.\n",
        "* to_numeric(): Converts data to numeric format.\n",
        "* to_datetime(): Converts data to datetime format.\n",
        "\n",
        "### Data Analysis and Visualization in Pandas\n",
        "\n",
        "* value_counts(): Counts the frequency of unique values in a Series or DataFrame.\n",
        "* corr(): Calculates the correlation between columns.\n",
        "* cov(): Calculates the covariance between columns.\n",
        "* plot(): Creates various types of plots (line, bar, * scatter, etc.).\n",
        "* hist(): Creates histograms.\n",
        "* boxplot(): Creates box plots.\n",
        "\n",
        "4. Creating Pandas Series and Data Frame\n",
        "   * a. Using dictionary\n",
        "```\n",
        "sey_dictionary = {\"name:\"seyi\", \"schools\":\"3mtt\",\"track: \"Data Science\"}\n",
        "```\n",
        "   * b. Using lists of dictionaries (multiple dictioanries inside a single list)\n",
        "\n",
        "```\n",
        "data_science_cohort2 = [{\"name\":\"Tobi\", \"age\": 21},\n",
        "                        {\"name\":\"Joy\", \"age\": 25},\n",
        "                        {\"name\":\"Toheebat\", \"age\": 25},\n",
        "                        {\"name\":\"Rashidat\", \"age\": 36},\n",
        "                        {\"name\":\"Emmanuel\", \"age\":29}\n",
        "                       ]\n",
        "```\n",
        "\n",
        "\n",
        "   * c. Using dictionaries of lists (multiple lists serving as values in a single dictionary)\n",
        "\n",
        "\n",
        "```\n",
        "attendance = {\"Class1\":[\"Joy\",\"Rashidat\",\"Seyi\"],\n",
        "              \"class2\":[\"Rashidat\",\"Tobi\",\"Seyi\",\"Ikechukwu\"]\n",
        "              \"class3\":[\"Emmanuel\",\"Esther\",\"Ibrahim\",\"Toheebat\"]\n",
        "             }\n",
        "```\n",
        "\n",
        "\n",
        "\n",
        "   * d. using dictionaries of dicdtionaries( Multiple dictionaries inside a dictionary)\n",
        "\n",
        "```\n",
        "bio_data = {'Fe00234: {'Name': 'Seyi', 'Age': 25},\n",
        "            'Fe00235': {'Name': 'Esther', 'Age': 30},\n",
        "            'Fe00236': {'Name': 'Tobi', 'Age': 21}\n",
        "            }\n",
        "```\n",
        "\n",
        "\n",
        "5. syntax:\n",
        "```\n",
        "pd.Series(data) # Create a series\n",
        "pd.DataFrame(data) # Create a Dataframe\n",
        "```\n",
        "\n",
        "6. Steps:\n",
        "* Define your data in a dictionary\n",
        "* Write your Pandas dataframe/ series syntax\n",
        "* Insert the variable name of your data as a parameter into the sytax.\n"
      ]
    },
    {
      "cell_type": "code",
      "execution_count": null,
      "metadata": {
        "id": "-iDSeUAG5IiB"
      },
      "outputs": [],
      "source": [
        "import pandas as pd"
      ]
    },
    {
      "cell_type": "code",
      "execution_count": null,
      "metadata": {
        "id": "0x2VzLkYTDgh"
      },
      "outputs": [],
      "source": [
        "# packages ---collections of modules\n",
        "# modules ---collections of functions\n",
        "# functions"
      ]
    },
    {
      "cell_type": "code",
      "execution_count": null,
      "metadata": {
        "id": "pWyDAv-3VbUB"
      },
      "outputs": [],
      "source": []
    },
    {
      "cell_type": "code",
      "execution_count": null,
      "metadata": {
        "id": "Qz-fSao3UZsC"
      },
      "outputs": [],
      "source": [
        "bio_data = {'Fe00234': {'Name': 'Seyi', 'Age': 25},'Fe00235': {'Name': 'Esther', 'Age': 30},'Fe00236': {'Name': 'Tobi', 'Age': 21}}"
      ]
    },
    {
      "cell_type": "code",
      "execution_count": null,
      "metadata": {
        "id": "ZN3Z4YdQUswR"
      },
      "outputs": [],
      "source": [
        "bio = pd.DataFrame(bio_data)"
      ]
    },
    {
      "cell_type": "code",
      "execution_count": null,
      "metadata": {
        "id": "gCzx_b0gVhfR"
      },
      "outputs": [],
      "source": [
        "bio"
      ]
    },
    {
      "cell_type": "markdown",
      "metadata": {
        "id": "tMClQT-UNwOr"
      },
      "source": []
    },
    {
      "cell_type": "code",
      "execution_count": null,
      "metadata": {
        "id": "AOP2hRdSTR3j"
      },
      "outputs": [],
      "source": [
        "import pandas as pd\n",
        "Series()\n",
        "pd.Series()\n",
        "\n",
        "DataFrame()\n",
        "pd.DataFrame()"
      ]
    },
    {
      "cell_type": "markdown",
      "metadata": {
        "id": "xd_lvu3NKSsY"
      },
      "source": [
        "[Week 4 Attendance](https://forms.gle/6h3kt4pSGAkkykqu5)"
      ]
    },
    {
      "cell_type": "markdown",
      "metadata": {
        "id": "-vtgK2wutLxS"
      },
      "source": [
        "\n",
        "\n",
        "```\n",
        "# This is formatted as code\n",
        "```\n",
        "\n",
        "[Follow link 1 for further help with understanding variables](https://drive.google.com/drive/folders/1jzgLJ-7QypfxFVGJNqm0a5FuXEzI2-YM)\n",
        "\n",
        "[Follow link 2 for further help with understanding Conditional statement](https://drive.google.com/drive/folders/1jzgLJ-7QypfxFVGJNqm0a5FuXEzI2-YM)\n",
        "\n",
        "[Follow link 3 for further help with undertanding functions](https://drive.google.com/drive/folders/1jzgLJ-7QypfxFVGJNqm0a5FuXEzI2-YM)\n",
        "\n",
        "[Bonus class on Error Handing](https://drive.google.com/file/d/1dk_SiihE_ya9nTldSOd9rB_7w9VNMPHM/view?usp=drive_link)"
      ]
    },
    {
      "cell_type": "code",
      "execution_count": null,
      "metadata": {
        "id": "12IX1FJ_r0_u"
      },
      "outputs": [],
      "source": [
        "# practice your codes here"
      ]
    },
    {
      "cell_type": "markdown",
      "metadata": {
        "id": "CbByIxYXllSx"
      },
      "source": [
        "####What is expected of you to learn as regarding data acquisition and Cleaning\n",
        "\n",
        "Objective 3: Distinguish between the different types of data, data structures, and the basics of data collection and cleaning.\n",
        "\n",
        "* Importing data manipulation libraries (Numpy and Pandas)\n",
        "* Understanding Series, Dataframe, Arrays and Matrix\n",
        "* Generating your own data (series, DataFrame, Array or Matrix)\n",
        "* Understanding and removing missing values"
      ]
    },
    {
      "cell_type": "code",
      "execution_count": null,
      "metadata": {
        "id": "FhkNJ6ZVprkU"
      },
      "outputs": [],
      "source": [
        "# lets get our hands dirty..."
      ]
    },
    {
      "cell_type": "markdown",
      "metadata": {
        "id": "zKNl-ia0dJ7l"
      },
      "source": [
        "## Week 1 Assignment\n",
        "\n",
        "For this week, complete the following tasks and submit on your portal as your\n",
        "\n",
        "assignment for the week:\n",
        "1. Write a Python script to calculate basic statistics (e.g., sum, average, min,\n",
        "\n",
        "max).\n",
        "2.  Write a Python script that converts an integer to a float.\n",
        "\n",
        "* Deadline: Sunday,1st September 2024, 6:00pm."
      ]
    },
    {
      "cell_type": "code",
      "execution_count": null,
      "metadata": {
        "id": "Te4ADW4kxH1L"
      },
      "outputs": [],
      "source": []
    },
    {
      "cell_type": "code",
      "execution_count": null,
      "metadata": {
        "id": "gfiSBb6Eec-b"
      },
      "outputs": [],
      "source": [
        "# Do have a great weekend see you next week!"
      ]
    },
    {
      "cell_type": "markdown",
      "metadata": {
        "id": "TgwqYH5bwKYE"
      },
      "source": [
        "### FINAL NOTE:\n",
        "####1.  Do remember to fill in your details [here](https://forms.gle/1sVFhYsQwVyFxxpr5). Thank you\n",
        "####2. Submit your assignment [here](https://forms.gle/7kYsQqkRsmiaQGR38) for review, and also ensure to submit on your portal as instructed.\n",
        "####3. Remember to watch and pratice with all the materials shared with you by 3MTT.\n",
        "\n",
        "####4. You can have access to this notebook [here](https://drive.google.com/drive/u/0/folders/1F_wZuUYvSKHVMUm8lZPQsktfIwiX8L1W) always make sure to check it from time to time as we wil keep updating it.\n",
        "####5. (Optional) You can submit your practice notebook [here](https://drive.google.com/drive/u/0/folders/1F_wZuUYvSKHVMUm8lZPQsktfIwiX8L1W) for review.Save the notebook with your full name and fellowID"
      ]
    },
    {
      "cell_type": "code",
      "execution_count": null,
      "metadata": {
        "id": "2Ir9i-cJeeOw"
      },
      "outputs": [],
      "source": [
        "import pandas as pd"
      ]
    },
    {
      "cell_type": "code",
      "execution_count": null,
      "metadata": {
        "id": "E7TpcTRftWRN"
      },
      "outputs": [],
      "source": []
    },
    {
      "cell_type": "code",
      "execution_count": null,
      "metadata": {
        "id": "xH9cEKGHDZL8"
      },
      "outputs": [],
      "source": [
        "sey_dictionary = {\"name\" :\"seyi\",\"schools\":\"3mtt\",\"track\":\"Data Science\"}"
      ]
    },
    {
      "cell_type": "code",
      "execution_count": null,
      "metadata": {
        "id": "qKG0cQQceeSG"
      },
      "outputs": [],
      "source": [
        "data_science_cohort2 = [{\"name\":\"Tobi\", \"age\": 21},\n",
        "                        {\"name\": \"Joy\",\"age\": 25},\n",
        "                        {\"name\": \"Toheebat\",\"age\":25},\n",
        "                        {\"name\": \"Rashidat\",\"age\":36},\n",
        "                        {\"name\":\"Emmanuel\",\"age\": 29}\n",
        "                        ]"
      ]
    },
    {
      "cell_type": "code",
      "execution_count": null,
      "metadata": {
        "id": "nM7M5NA3eeVl"
      },
      "outputs": [],
      "source": [
        "attendance = {\"Class1\":[\"Joy\",\"Rashidat\",\"Seyi\"],\n",
        "              \"class2\":[\"Rashidat\",\"Tobi\",\"Seyi\",\"Ikechukwu\"],\n",
        "              \"class3\":[\"Emmanuel\",\"Esther\",\"Ibrahim\",\"Toheebat\"]\n",
        "              }"
      ]
    },
    {
      "cell_type": "code",
      "execution_count": null,
      "metadata": {
        "id": "mPjr3c7ZeeYp"
      },
      "outputs": [],
      "source": [
        "bio_data = {'Fe00234': {'Name': 'Seyi', 'Age': 25},\n",
        "            'Fe00235': {'Name': 'Esther', 'Age': 30},\n",
        "            'Fe00236': {'Name': 'Tobi', 'Age': 21}\n",
        "            }"
      ]
    },
    {
      "cell_type": "code",
      "execution_count": null,
      "metadata": {
        "id": "GE8LBdSSvuV7"
      },
      "outputs": [],
      "source": [
        "import pandas as pd"
      ]
    },
    {
      "cell_type": "code",
      "execution_count": null,
      "metadata": {
        "id": "na8roEAfAxmz"
      },
      "outputs": [],
      "source": [
        "# pd.read_csv()\n",
        "trip = pd.read_csv(\"trip.csv\")\n",
        "#dothead() or.head() ----> to view first five rows of our dataset\n",
        "trip.head()"
      ]
    }
  ]
}